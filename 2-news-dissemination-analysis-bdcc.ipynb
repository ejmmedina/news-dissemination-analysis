{
 "cells": [
  {
   "cell_type": "markdown",
   "metadata": {},
   "source": [
    "# Predicting Speed of News Dissemination using Machine Learning Algorithm\n",
    "\n",
    "#### *LT6*"
   ]
  },
  {
   "cell_type": "code",
   "execution_count": 10,
   "metadata": {
    "ExecuteTime": {
     "end_time": "2019-12-19T15:34:28.894545Z",
     "start_time": "2019-12-19T15:34:28.645874Z"
    }
   },
   "outputs": [],
   "source": [
    "import pandas as pd\n",
    "# import dask.dataframe as dd\n",
    "import matplotlib.pyplot as plt\n",
    "import seaborn as sns\n",
    "import numpy as np\n",
    "\n",
    "from sklearn.tree import DecisionTreeRegressor\n",
    "from sklearn.ensemble import RandomForestRegressor, GradientBoostingRegressor\n",
    "import time\n",
    "from sklearn.preprocessing import MinMaxScaler, StandardScaler\n",
    "from sklearn.model_selection import GridSearchCV, cross_val_score"
   ]
  },
  {
   "cell_type": "code",
   "execution_count": 3,
   "metadata": {},
   "outputs": [],
   "source": [
    "from dask.distributed import Client\n",
    "client = Client()"
   ]
  },
  {
   "cell_type": "code",
   "execution_count": 4,
   "metadata": {},
   "outputs": [
    {
     "data": {
      "text/html": [
       "<table style=\"border: 2px solid white;\">\n",
       "<tr>\n",
       "<td style=\"vertical-align: top; border: 0px solid white\">\n",
       "<h3 style=\"text-align: left;\">Client</h3>\n",
       "<ul style=\"text-align: left; list-style: none; margin: 0; padding: 0;\">\n",
       "  <li><b>Scheduler: </b>tcp://127.0.0.1:43263</li>\n",
       "  <li><b>Dashboard: </b><a href='http://127.0.0.1:8787/status' target='_blank'>http://127.0.0.1:8787/status</a>\n",
       "</ul>\n",
       "</td>\n",
       "<td style=\"vertical-align: top; border: 0px solid white\">\n",
       "<h3 style=\"text-align: left;\">Cluster</h3>\n",
       "<ul style=\"text-align: left; list-style:none; margin: 0; padding: 0;\">\n",
       "  <li><b>Workers: </b>4</li>\n",
       "  <li><b>Cores: </b>16</li>\n",
       "  <li><b>Memory: </b>134.01 GB</li>\n",
       "</ul>\n",
       "</td>\n",
       "</tr>\n",
       "</table>"
      ],
      "text/plain": [
       "<Client: 'tcp://127.0.0.1:43263' processes=4 threads=16, memory=134.01 GB>"
      ]
     },
     "execution_count": 4,
     "metadata": {},
     "output_type": "execute_result"
    }
   ],
   "source": [
    "client"
   ]
  },
  {
   "cell_type": "markdown",
   "metadata": {},
   "source": [
    "## Reading the working dataset"
   ]
  },
  {
   "cell_type": "code",
   "execution_count": 5,
   "metadata": {},
   "outputs": [],
   "source": [
    "df = pd.read_parquet('s3://bdcc-lab/df_merged.parquet')"
   ]
  },
  {
   "cell_type": "code",
   "execution_count": 6,
   "metadata": {},
   "outputs": [
    {
     "data": {
      "text/html": [
       "<div>\n",
       "<style scoped>\n",
       "    .dataframe tbody tr th:only-of-type {\n",
       "        vertical-align: middle;\n",
       "    }\n",
       "\n",
       "    .dataframe tbody tr th {\n",
       "        vertical-align: top;\n",
       "    }\n",
       "\n",
       "    .dataframe thead th {\n",
       "        text-align: right;\n",
       "    }\n",
       "</style>\n",
       "<table border=\"1\" class=\"dataframe\">\n",
       "  <thead>\n",
       "    <tr style=\"text-align: right;\">\n",
       "      <th></th>\n",
       "      <th>GlobalEventID</th>\n",
       "      <th>EventTimeDate</th>\n",
       "      <th>MentionTimeDate</th>\n",
       "      <th>MentionType</th>\n",
       "      <th>SentenceID</th>\n",
       "      <th>Actor1CharOffset</th>\n",
       "      <th>Actor2CharOffset</th>\n",
       "      <th>ActionCharOffset</th>\n",
       "      <th>MentionDocLen</th>\n",
       "      <th>MentionDocTone</th>\n",
       "      <th>...</th>\n",
       "      <th>EventCode</th>\n",
       "      <th>EventBaseCode</th>\n",
       "      <th>EventRootCode</th>\n",
       "      <th>QuadClass</th>\n",
       "      <th>NumMentions</th>\n",
       "      <th>NumSources</th>\n",
       "      <th>NumArticles</th>\n",
       "      <th>AvgTone</th>\n",
       "      <th>mention_source</th>\n",
       "      <th>mention_article</th>\n",
       "    </tr>\n",
       "  </thead>\n",
       "  <tbody>\n",
       "    <tr>\n",
       "      <td>0</td>\n",
       "      <td>813443217</td>\n",
       "      <td>20190101040000</td>\n",
       "      <td>20190101081500</td>\n",
       "      <td>1</td>\n",
       "      <td>6</td>\n",
       "      <td>1546</td>\n",
       "      <td>-1</td>\n",
       "      <td>1527</td>\n",
       "      <td>2227</td>\n",
       "      <td>3.07692307692307</td>\n",
       "      <td>...</td>\n",
       "      <td>043</td>\n",
       "      <td>043</td>\n",
       "      <td>04</td>\n",
       "      <td>1</td>\n",
       "      <td>10</td>\n",
       "      <td>1</td>\n",
       "      <td>10</td>\n",
       "      <td>-0.89514066496163</td>\n",
       "      <td>10.0</td>\n",
       "      <td>1.0</td>\n",
       "    </tr>\n",
       "    <tr>\n",
       "      <td>1</td>\n",
       "      <td>813443217</td>\n",
       "      <td>20190101040000</td>\n",
       "      <td>20190101040000</td>\n",
       "      <td>1</td>\n",
       "      <td>9</td>\n",
       "      <td>-1</td>\n",
       "      <td>3858</td>\n",
       "      <td>3844</td>\n",
       "      <td>4858</td>\n",
       "      <td>-0.89514066496163</td>\n",
       "      <td>...</td>\n",
       "      <td>043</td>\n",
       "      <td>043</td>\n",
       "      <td>04</td>\n",
       "      <td>1</td>\n",
       "      <td>10</td>\n",
       "      <td>1</td>\n",
       "      <td>10</td>\n",
       "      <td>-0.89514066496163</td>\n",
       "      <td>10.0</td>\n",
       "      <td>1.0</td>\n",
       "    </tr>\n",
       "    <tr>\n",
       "      <td>2</td>\n",
       "      <td>813443217</td>\n",
       "      <td>20190101040000</td>\n",
       "      <td>20190101080000</td>\n",
       "      <td>1</td>\n",
       "      <td>6</td>\n",
       "      <td>1546</td>\n",
       "      <td>-1</td>\n",
       "      <td>1527</td>\n",
       "      <td>2224</td>\n",
       "      <td>3.07692307692307</td>\n",
       "      <td>...</td>\n",
       "      <td>043</td>\n",
       "      <td>043</td>\n",
       "      <td>04</td>\n",
       "      <td>1</td>\n",
       "      <td>10</td>\n",
       "      <td>1</td>\n",
       "      <td>10</td>\n",
       "      <td>-0.89514066496163</td>\n",
       "      <td>10.0</td>\n",
       "      <td>1.0</td>\n",
       "    </tr>\n",
       "    <tr>\n",
       "      <td>3</td>\n",
       "      <td>813449194</td>\n",
       "      <td>20190101053000</td>\n",
       "      <td>20190101053000</td>\n",
       "      <td>1</td>\n",
       "      <td>8</td>\n",
       "      <td>2553</td>\n",
       "      <td>-1</td>\n",
       "      <td>2587</td>\n",
       "      <td>7011</td>\n",
       "      <td>0.55658627087198</td>\n",
       "      <td>...</td>\n",
       "      <td>070</td>\n",
       "      <td>070</td>\n",
       "      <td>07</td>\n",
       "      <td>2</td>\n",
       "      <td>10</td>\n",
       "      <td>1</td>\n",
       "      <td>10</td>\n",
       "      <td>0.55658627087198</td>\n",
       "      <td>10.0</td>\n",
       "      <td>1.0</td>\n",
       "    </tr>\n",
       "    <tr>\n",
       "      <td>4</td>\n",
       "      <td>813494031</td>\n",
       "      <td>20190101143000</td>\n",
       "      <td>20190101143000</td>\n",
       "      <td>1</td>\n",
       "      <td>14</td>\n",
       "      <td>-1</td>\n",
       "      <td>3746</td>\n",
       "      <td>3738</td>\n",
       "      <td>4024</td>\n",
       "      <td>-2.42057488653555</td>\n",
       "      <td>...</td>\n",
       "      <td>020</td>\n",
       "      <td>020</td>\n",
       "      <td>02</td>\n",
       "      <td>1</td>\n",
       "      <td>10</td>\n",
       "      <td>1</td>\n",
       "      <td>10</td>\n",
       "      <td>-2.42057488653555</td>\n",
       "      <td>10.0</td>\n",
       "      <td>1.0</td>\n",
       "    </tr>\n",
       "  </tbody>\n",
       "</table>\n",
       "<p>5 rows × 40 columns</p>\n",
       "</div>"
      ],
      "text/plain": [
       "  GlobalEventID   EventTimeDate MentionTimeDate MentionType SentenceID  \\\n",
       "0     813443217  20190101040000  20190101081500           1          6   \n",
       "1     813443217  20190101040000  20190101040000           1          9   \n",
       "2     813443217  20190101040000  20190101080000           1          6   \n",
       "3     813449194  20190101053000  20190101053000           1          8   \n",
       "4     813494031  20190101143000  20190101143000           1         14   \n",
       "\n",
       "  Actor1CharOffset Actor2CharOffset ActionCharOffset MentionDocLen  \\\n",
       "0             1546               -1             1527          2227   \n",
       "1               -1             3858             3844          4858   \n",
       "2             1546               -1             1527          2224   \n",
       "3             2553               -1             2587          7011   \n",
       "4               -1             3746             3738          4024   \n",
       "\n",
       "      MentionDocTone  ... EventCode EventBaseCode EventRootCode QuadClass  \\\n",
       "0   3.07692307692307  ...       043           043            04         1   \n",
       "1  -0.89514066496163  ...       043           043            04         1   \n",
       "2   3.07692307692307  ...       043           043            04         1   \n",
       "3   0.55658627087198  ...       070           070            07         2   \n",
       "4  -2.42057488653555  ...       020           020            02         1   \n",
       "\n",
       "  NumMentions NumSources NumArticles            AvgTone mention_source  \\\n",
       "0          10          1          10  -0.89514066496163           10.0   \n",
       "1          10          1          10  -0.89514066496163           10.0   \n",
       "2          10          1          10  -0.89514066496163           10.0   \n",
       "3          10          1          10   0.55658627087198           10.0   \n",
       "4          10          1          10  -2.42057488653555           10.0   \n",
       "\n",
       "  mention_article  \n",
       "0             1.0  \n",
       "1             1.0  \n",
       "2             1.0  \n",
       "3             1.0  \n",
       "4             1.0  \n",
       "\n",
       "[5 rows x 40 columns]"
      ]
     },
     "execution_count": 6,
     "metadata": {},
     "output_type": "execute_result"
    }
   ],
   "source": [
    "df.head()"
   ]
  },
  {
   "cell_type": "code",
   "execution_count": 7,
   "metadata": {},
   "outputs": [
    {
     "data": {
      "text/plain": [
       "(44069, 40)"
      ]
     },
     "execution_count": 7,
     "metadata": {},
     "output_type": "execute_result"
    }
   ],
   "source": [
    "df.shape"
   ]
  },
  {
   "cell_type": "markdown",
   "metadata": {},
   "source": [
    "### Data Preprocessing"
   ]
  },
  {
   "cell_type": "code",
   "execution_count": 8,
   "metadata": {},
   "outputs": [],
   "source": [
    "list_cols = ['GlobalEventID',\n",
    "             'MentionTimeDate',\n",
    "             \"EventTimeDate\",\n",
    "             'MentionType',\n",
    "             'SentenceID',\n",
    "             'Actor1CharOffset',\n",
    "             'Actor2CharOffset',\n",
    "             'ActionCharOffset',\n",
    "             'MentionDocLen',\n",
    "             'MentionDocTone',\n",
    "             'Day',\n",
    "             'NumMentions',\n",
    "             'NumSources',\n",
    "             'NumArticles',\n",
    "             'AvgTone',\n",
    "             'mention_source',\n",
    "             'mention_article']\n",
    "\n",
    "for i in list_cols:\n",
    "    df[i] = df[i].astype(float)"
   ]
  },
  {
   "cell_type": "code",
   "execution_count": 9,
   "metadata": {},
   "outputs": [],
   "source": [
    "df['tone_diff'] = df['MentionDocTone'].astype(float) - df['AvgTone'].astype(float)"
   ]
  },
  {
   "cell_type": "code",
   "execution_count": 10,
   "metadata": {},
   "outputs": [
    {
     "name": "stderr",
     "output_type": "stream",
     "text": [
      "distributed.comm.tcp - WARNING - Closing dangling stream in <TCP  local=tcp://127.0.0.1:37446 remote=tcp://127.0.0.1:43263>\n"
     ]
    }
   ],
   "source": [
    "df['MentionTimeDate'] = df['MentionTimeDate'].apply(lambda x: pd.to_datetime(str(int(x)), format='%Y%m%d%H%M%S'))\n",
    "df['EventTimeDate'] = df['EventTimeDate'].apply(lambda x: pd.to_datetime(str(int(x)), format='%Y%m%d%H%M%S'))"
   ]
  },
  {
   "cell_type": "code",
   "execution_count": 11,
   "metadata": {},
   "outputs": [
    {
     "name": "stderr",
     "output_type": "stream",
     "text": [
      "distributed.comm.tcp - WARNING - Closing dangling stream in <TCP  local=tcp://127.0.0.1:37448 remote=tcp://127.0.0.1:43263>\n"
     ]
    }
   ],
   "source": [
    "df['min_diff'] = df['MentionTimeDate'] - df['EventTimeDate']"
   ]
  },
  {
   "cell_type": "code",
   "execution_count": 12,
   "metadata": {},
   "outputs": [],
   "source": [
    "df['min_diff'] = df['min_diff'].dt.seconds / 60"
   ]
  },
  {
   "cell_type": "code",
   "execution_count": 13,
   "metadata": {},
   "outputs": [],
   "source": [
    "df['mention_day'] = df['MentionTimeDate'].astype(str).map(lambda x: x[:-8])"
   ]
  },
  {
   "cell_type": "code",
   "execution_count": 15,
   "metadata": {
    "scrolled": false
   },
   "outputs": [
    {
     "data": {
      "text/plain": [
       "GlobalEventID               0\n",
       "EventTimeDate               0\n",
       "MentionTimeDate             0\n",
       "MentionType                 0\n",
       "SentenceID                  0\n",
       "Actor1CharOffset            0\n",
       "Actor2CharOffset            0\n",
       "ActionCharOffset            0\n",
       "MentionDocLen               0\n",
       "MentionDocTone              0\n",
       "Day                         0\n",
       "Actor1Code               5244\n",
       "Actor1CountryCode       27066\n",
       "Actor1KnownGroupCode    43549\n",
       "Actor1EthnicCode        43911\n",
       "Actor1Religion1Code     42504\n",
       "Actor1Religion2Code     43752\n",
       "Actor1type1Code         20629\n",
       "Actor1type2Code         42659\n",
       "Actor1type3Code         44035\n",
       "Actor2Code              16620\n",
       "Actor2CountryCode       32768\n",
       "Actor2KnownGroupCode    43524\n",
       "Actor2EthnicCode        43955\n",
       "Actor2Religion1Code     41575\n",
       "Actor2Religion2Code     42561\n",
       "Actor2type1Code         28437\n",
       "Actor2type2Code         43012\n",
       "Actor2type3Code         44058\n",
       "IsRootEvent                 0\n",
       "EventCode                   0\n",
       "EventBaseCode               0\n",
       "EventRootCode               0\n",
       "QuadClass                   0\n",
       "NumMentions                 0\n",
       "NumSources                  0\n",
       "NumArticles                 0\n",
       "AvgTone                     0\n",
       "mention_source              0\n",
       "mention_article             0\n",
       "tone_diff                   0\n",
       "min_diff                    0\n",
       "mention_day                 0\n",
       "dtype: int64"
      ]
     },
     "execution_count": 15,
     "metadata": {},
     "output_type": "execute_result"
    }
   ],
   "source": [
    "df.isnull().sum()"
   ]
  },
  {
   "cell_type": "markdown",
   "metadata": {},
   "source": [
    "### Feature Engineering"
   ]
  },
  {
   "cell_type": "code",
   "execution_count": 16,
   "metadata": {},
   "outputs": [],
   "source": [
    "from sklearn.feature_extraction.text import CountVectorizer\n",
    "vec = CountVectorizer(lowercase=False, tokenizer=lambda x: x)\n",
    "\n",
    "types1 = df.filter(regex=\".*1type.*\").fillna('').apply(list,axis=1)\n",
    "types2 = df.filter(regex=\".*2type.*\").fillna('').apply(list,axis=1)\n",
    "\n",
    "df_type1 = pd.DataFrame(vec.fit_transform(types1).todense(), columns=[\"Actor1_\" + i for i in vec.get_feature_names()]).iloc[:, 1:]\n",
    "df_type2 = pd.DataFrame(vec.fit_transform(types2).todense(), columns=[\"Actor2_\" + i for i in vec.get_feature_names()]).iloc[:, 1:]"
   ]
  },
  {
   "cell_type": "code",
   "execution_count": 17,
   "metadata": {},
   "outputs": [],
   "source": [
    "df[df_type1.columns] = df_type1\n",
    "df[df_type2.columns] = df_type2"
   ]
  },
  {
   "cell_type": "code",
   "execution_count": 18,
   "metadata": {},
   "outputs": [],
   "source": [
    "df['actor1_ethnic'] = df['Actor1EthnicCode'].isnull()\n",
    "df['actor1_ethnic'] = df['actor1_ethnic'].apply(lambda x: 1 if x == 'False' else 0)\n",
    "\n",
    "df['actor2_ethnic'] = df['Actor2EthnicCode'].isnull()\n",
    "df['actor2_ethnic'] = df['actor2_ethnic'].apply(lambda x: 1 if x == 'False' else 0)\n",
    "\n",
    "df['Actor1_Religion'] = df['Actor1Religion1Code'].isnull()\n",
    "df['Actor1_Religion'] = df['Actor1_Religion'].apply(lambda x: 1 if x == 'False' else 0)\n",
    "\n",
    "df['Actor2_Religion'] = df['Actor2Religion1Code'].isnull()\n",
    "df['Actor2_Religion'] = df['Actor2_Religion'].apply(lambda x: 1 if x == 'False' else 0)"
   ]
  },
  {
   "cell_type": "code",
   "execution_count": 19,
   "metadata": {},
   "outputs": [],
   "source": [
    "df = df.set_index('GlobalEventID')"
   ]
  },
  {
   "cell_type": "code",
   "execution_count": 21,
   "metadata": {},
   "outputs": [],
   "source": [
    "import pycountry_convert as pc\n",
    "from pycountry_convert import country_alpha3_to_country_alpha2\n",
    "from pycountry_convert.convert_country_alpha2_to_continent_code import country_alpha2_to_continent_code"
   ]
  },
  {
   "cell_type": "code",
   "execution_count": 22,
   "metadata": {
    "scrolled": true
   },
   "outputs": [],
   "source": [
    "def continent(code):\n",
    "    manual_dict = {'SEA':\"Asia\", \"EUR\":\"Europe\", 'TMP': 'Asia', 'VA': 'Europe',\n",
    "                  'AFR':'Africa', 'ASA':'South America', 'WST':'Oceania', 'SAS':'South America'}\n",
    "    if code == \"PHL\":\n",
    "        return \"Philippines\"\n",
    "    try:\n",
    "        code = pc.country_alpha3_to_country_alpha2(code)\n",
    "        code = pc.country_alpha2_to_continent_code(code)\n",
    "        country_continent_name = pc.convert_continent_code_to_continent_name(code)\n",
    "    except KeyError:\n",
    "        country_continent_name = manual_dict[code]\n",
    "    return country_continent_name"
   ]
  },
  {
   "cell_type": "code",
   "execution_count": 23,
   "metadata": {
    "scrolled": true
   },
   "outputs": [],
   "source": [
    "df['Actor1_cc'] = df['Actor1CountryCode'].apply(lambda x: continent(x) if x else x)"
   ]
  },
  {
   "cell_type": "code",
   "execution_count": 24,
   "metadata": {},
   "outputs": [],
   "source": [
    "df['Actor2_cc'] = df['Actor2CountryCode'].apply(lambda x: continent(x) if x else x)"
   ]
  },
  {
   "cell_type": "code",
   "execution_count": 25,
   "metadata": {},
   "outputs": [],
   "source": [
    "df_get_dum = pd.get_dummies(df, columns=['Actor1KnownGroupCode', 'Actor2KnownGroupCode'])"
   ]
  },
  {
   "cell_type": "code",
   "execution_count": 26,
   "metadata": {},
   "outputs": [],
   "source": [
    "to_drop = ['MentionTimeDate', 'EventTimeDate', 'MentionType', \n",
    "            'mention_day',\n",
    "            'Actor1Code',\n",
    "             'Actor1CountryCode',\n",
    "             'Actor1EthnicCode',\n",
    "             'Actor1Religion1Code',\n",
    "             'Actor1Religion2Code',\n",
    "             'Actor1type1Code',\n",
    "             'Actor1type2Code',\n",
    "             'Actor1type3Code',\n",
    "             'Actor2Code',\n",
    "             'Actor2CountryCode',\n",
    "             'Actor2EthnicCode',\n",
    "             'Actor2Religion1Code',\n",
    "             'Actor2Religion2Code',\n",
    "             'Actor2type1Code',\n",
    "             'Actor2type2Code',\n",
    "             'Actor2type3Code',\n",
    "            'EventCode',\n",
    "             'EventBaseCode',\n",
    "           'Day'\n",
    "            ]\n",
    "df_get_dum = df_get_dum.drop(columns=to_drop, errors='ignore')"
   ]
  },
  {
   "cell_type": "code",
   "execution_count": 27,
   "metadata": {},
   "outputs": [],
   "source": [
    "df_final = pd.get_dummies(df_get_dum)"
   ]
  },
  {
   "cell_type": "code",
   "execution_count": 28,
   "metadata": {
    "scrolled": true
   },
   "outputs": [
    {
     "data": {
      "text/html": [
       "<div>\n",
       "<style scoped>\n",
       "    .dataframe tbody tr th:only-of-type {\n",
       "        vertical-align: middle;\n",
       "    }\n",
       "\n",
       "    .dataframe tbody tr th {\n",
       "        vertical-align: top;\n",
       "    }\n",
       "\n",
       "    .dataframe thead th {\n",
       "        text-align: right;\n",
       "    }\n",
       "</style>\n",
       "<table border=\"1\" class=\"dataframe\">\n",
       "  <thead>\n",
       "    <tr style=\"text-align: right;\">\n",
       "      <th></th>\n",
       "      <th>SentenceID</th>\n",
       "      <th>Actor1CharOffset</th>\n",
       "      <th>Actor2CharOffset</th>\n",
       "      <th>ActionCharOffset</th>\n",
       "      <th>MentionDocLen</th>\n",
       "      <th>MentionDocTone</th>\n",
       "      <th>NumMentions</th>\n",
       "      <th>NumSources</th>\n",
       "      <th>NumArticles</th>\n",
       "      <th>AvgTone</th>\n",
       "      <th>...</th>\n",
       "      <th>Actor1_cc_Oceania</th>\n",
       "      <th>Actor1_cc_Philippines</th>\n",
       "      <th>Actor1_cc_South America</th>\n",
       "      <th>Actor2_cc_Africa</th>\n",
       "      <th>Actor2_cc_Asia</th>\n",
       "      <th>Actor2_cc_Europe</th>\n",
       "      <th>Actor2_cc_North America</th>\n",
       "      <th>Actor2_cc_Oceania</th>\n",
       "      <th>Actor2_cc_Philippines</th>\n",
       "      <th>Actor2_cc_South America</th>\n",
       "    </tr>\n",
       "    <tr>\n",
       "      <th>GlobalEventID</th>\n",
       "      <th></th>\n",
       "      <th></th>\n",
       "      <th></th>\n",
       "      <th></th>\n",
       "      <th></th>\n",
       "      <th></th>\n",
       "      <th></th>\n",
       "      <th></th>\n",
       "      <th></th>\n",
       "      <th></th>\n",
       "      <th></th>\n",
       "      <th></th>\n",
       "      <th></th>\n",
       "      <th></th>\n",
       "      <th></th>\n",
       "      <th></th>\n",
       "      <th></th>\n",
       "      <th></th>\n",
       "      <th></th>\n",
       "      <th></th>\n",
       "      <th></th>\n",
       "    </tr>\n",
       "  </thead>\n",
       "  <tbody>\n",
       "    <tr>\n",
       "      <td>813443217.0</td>\n",
       "      <td>6.0</td>\n",
       "      <td>1546.0</td>\n",
       "      <td>-1.0</td>\n",
       "      <td>1527.0</td>\n",
       "      <td>2227.0</td>\n",
       "      <td>3.076923</td>\n",
       "      <td>10.0</td>\n",
       "      <td>1.0</td>\n",
       "      <td>10.0</td>\n",
       "      <td>-0.895141</td>\n",
       "      <td>...</td>\n",
       "      <td>0</td>\n",
       "      <td>0</td>\n",
       "      <td>0</td>\n",
       "      <td>0</td>\n",
       "      <td>0</td>\n",
       "      <td>0</td>\n",
       "      <td>0</td>\n",
       "      <td>0</td>\n",
       "      <td>1</td>\n",
       "      <td>0</td>\n",
       "    </tr>\n",
       "    <tr>\n",
       "      <td>813443217.0</td>\n",
       "      <td>9.0</td>\n",
       "      <td>-1.0</td>\n",
       "      <td>3858.0</td>\n",
       "      <td>3844.0</td>\n",
       "      <td>4858.0</td>\n",
       "      <td>-0.895141</td>\n",
       "      <td>10.0</td>\n",
       "      <td>1.0</td>\n",
       "      <td>10.0</td>\n",
       "      <td>-0.895141</td>\n",
       "      <td>...</td>\n",
       "      <td>0</td>\n",
       "      <td>0</td>\n",
       "      <td>0</td>\n",
       "      <td>0</td>\n",
       "      <td>0</td>\n",
       "      <td>0</td>\n",
       "      <td>0</td>\n",
       "      <td>0</td>\n",
       "      <td>1</td>\n",
       "      <td>0</td>\n",
       "    </tr>\n",
       "    <tr>\n",
       "      <td>813443217.0</td>\n",
       "      <td>6.0</td>\n",
       "      <td>1546.0</td>\n",
       "      <td>-1.0</td>\n",
       "      <td>1527.0</td>\n",
       "      <td>2224.0</td>\n",
       "      <td>3.076923</td>\n",
       "      <td>10.0</td>\n",
       "      <td>1.0</td>\n",
       "      <td>10.0</td>\n",
       "      <td>-0.895141</td>\n",
       "      <td>...</td>\n",
       "      <td>0</td>\n",
       "      <td>0</td>\n",
       "      <td>0</td>\n",
       "      <td>0</td>\n",
       "      <td>0</td>\n",
       "      <td>0</td>\n",
       "      <td>0</td>\n",
       "      <td>0</td>\n",
       "      <td>1</td>\n",
       "      <td>0</td>\n",
       "    </tr>\n",
       "    <tr>\n",
       "      <td>813449194.0</td>\n",
       "      <td>8.0</td>\n",
       "      <td>2553.0</td>\n",
       "      <td>-1.0</td>\n",
       "      <td>2587.0</td>\n",
       "      <td>7011.0</td>\n",
       "      <td>0.556586</td>\n",
       "      <td>10.0</td>\n",
       "      <td>1.0</td>\n",
       "      <td>10.0</td>\n",
       "      <td>0.556586</td>\n",
       "      <td>...</td>\n",
       "      <td>0</td>\n",
       "      <td>0</td>\n",
       "      <td>0</td>\n",
       "      <td>0</td>\n",
       "      <td>0</td>\n",
       "      <td>0</td>\n",
       "      <td>0</td>\n",
       "      <td>0</td>\n",
       "      <td>0</td>\n",
       "      <td>0</td>\n",
       "    </tr>\n",
       "    <tr>\n",
       "      <td>813494031.0</td>\n",
       "      <td>14.0</td>\n",
       "      <td>-1.0</td>\n",
       "      <td>3746.0</td>\n",
       "      <td>3738.0</td>\n",
       "      <td>4024.0</td>\n",
       "      <td>-2.420575</td>\n",
       "      <td>10.0</td>\n",
       "      <td>1.0</td>\n",
       "      <td>10.0</td>\n",
       "      <td>-2.420575</td>\n",
       "      <td>...</td>\n",
       "      <td>0</td>\n",
       "      <td>0</td>\n",
       "      <td>0</td>\n",
       "      <td>0</td>\n",
       "      <td>0</td>\n",
       "      <td>0</td>\n",
       "      <td>0</td>\n",
       "      <td>0</td>\n",
       "      <td>0</td>\n",
       "      <td>0</td>\n",
       "    </tr>\n",
       "  </tbody>\n",
       "</table>\n",
       "<p>5 rows × 152 columns</p>\n",
       "</div>"
      ],
      "text/plain": [
       "               SentenceID  Actor1CharOffset  Actor2CharOffset  \\\n",
       "GlobalEventID                                                   \n",
       "813443217.0           6.0            1546.0              -1.0   \n",
       "813443217.0           9.0              -1.0            3858.0   \n",
       "813443217.0           6.0            1546.0              -1.0   \n",
       "813449194.0           8.0            2553.0              -1.0   \n",
       "813494031.0          14.0              -1.0            3746.0   \n",
       "\n",
       "               ActionCharOffset  MentionDocLen  MentionDocTone  NumMentions  \\\n",
       "GlobalEventID                                                                 \n",
       "813443217.0              1527.0         2227.0        3.076923         10.0   \n",
       "813443217.0              3844.0         4858.0       -0.895141         10.0   \n",
       "813443217.0              1527.0         2224.0        3.076923         10.0   \n",
       "813449194.0              2587.0         7011.0        0.556586         10.0   \n",
       "813494031.0              3738.0         4024.0       -2.420575         10.0   \n",
       "\n",
       "               NumSources  NumArticles   AvgTone  ...  Actor1_cc_Oceania  \\\n",
       "GlobalEventID                                     ...                      \n",
       "813443217.0           1.0         10.0 -0.895141  ...                  0   \n",
       "813443217.0           1.0         10.0 -0.895141  ...                  0   \n",
       "813443217.0           1.0         10.0 -0.895141  ...                  0   \n",
       "813449194.0           1.0         10.0  0.556586  ...                  0   \n",
       "813494031.0           1.0         10.0 -2.420575  ...                  0   \n",
       "\n",
       "               Actor1_cc_Philippines  Actor1_cc_South America  \\\n",
       "GlobalEventID                                                   \n",
       "813443217.0                        0                        0   \n",
       "813443217.0                        0                        0   \n",
       "813443217.0                        0                        0   \n",
       "813449194.0                        0                        0   \n",
       "813494031.0                        0                        0   \n",
       "\n",
       "               Actor2_cc_Africa  Actor2_cc_Asia  Actor2_cc_Europe  \\\n",
       "GlobalEventID                                                       \n",
       "813443217.0                   0               0                 0   \n",
       "813443217.0                   0               0                 0   \n",
       "813443217.0                   0               0                 0   \n",
       "813449194.0                   0               0                 0   \n",
       "813494031.0                   0               0                 0   \n",
       "\n",
       "               Actor2_cc_North America  Actor2_cc_Oceania  \\\n",
       "GlobalEventID                                               \n",
       "813443217.0                          0                  0   \n",
       "813443217.0                          0                  0   \n",
       "813443217.0                          0                  0   \n",
       "813449194.0                          0                  0   \n",
       "813494031.0                          0                  0   \n",
       "\n",
       "               Actor2_cc_Philippines  Actor2_cc_South America  \n",
       "GlobalEventID                                                  \n",
       "813443217.0                        1                        0  \n",
       "813443217.0                        1                        0  \n",
       "813443217.0                        1                        0  \n",
       "813449194.0                        0                        0  \n",
       "813494031.0                        0                        0  \n",
       "\n",
       "[5 rows x 152 columns]"
      ]
     },
     "execution_count": 28,
     "metadata": {},
     "output_type": "execute_result"
    }
   ],
   "source": [
    "df_final.head()"
   ]
  },
  {
   "cell_type": "markdown",
   "metadata": {},
   "source": [
    "## EDA"
   ]
  },
  {
   "cell_type": "code",
   "execution_count": 44,
   "metadata": {},
   "outputs": [
    {
     "data": {
      "text/plain": [
       "2.019013e+13    128\n",
       "2.019013e+13    121\n",
       "2.019013e+13    110\n",
       "2.019013e+13    109\n",
       "2.019021e+13    101\n",
       "               ... \n",
       "2.019031e+13      1\n",
       "2.019032e+13      1\n",
       "2.019030e+13      1\n",
       "2.019012e+13      1\n",
       "2.019011e+13      1\n",
       "Name: MentionTimeDate, Length: 7760, dtype: int64"
      ]
     },
     "execution_count": 44,
     "metadata": {},
     "output_type": "execute_result"
    }
   ],
   "source": [
    "df['MentionTimeDate'].value_counts()"
   ]
  },
  {
   "cell_type": "code",
   "execution_count": 45,
   "metadata": {},
   "outputs": [
    {
     "data": {
      "text/plain": [
       "20190127.0    4012\n",
       "20190213.0    1616\n",
       "20190128.0    1318\n",
       "20190221.0     792\n",
       "20190214.0     766\n",
       "              ... \n",
       "20180310.0       1\n",
       "20180322.0       1\n",
       "20180328.0       1\n",
       "20180222.0       1\n",
       "20180412.0       1\n",
       "Name: Day, Length: 205, dtype: int64"
      ]
     },
     "execution_count": 45,
     "metadata": {},
     "output_type": "execute_result"
    }
   ],
   "source": [
    "df['Day'].value_counts()"
   ]
  },
  {
   "cell_type": "code",
   "execution_count": 46,
   "metadata": {},
   "outputs": [
    {
     "data": {
      "text/plain": [
       "1.0    44069\n",
       "Name: MentionType, dtype: int64"
      ]
     },
     "execution_count": 46,
     "metadata": {},
     "output_type": "execute_result"
    }
   ],
   "source": [
    "df['MentionType'].value_counts()"
   ]
  },
  {
   "cell_type": "code",
   "execution_count": 47,
   "metadata": {},
   "outputs": [
    {
     "data": {
      "image/png": "[encoded data removed]",
      "text/plain": [
       "<Figure size 432x288 with 1 Axes>"
      ]
     },
     "metadata": {
      "needs_background": "light"
     },
     "output_type": "display_data"
    }
   ],
   "source": [
    "plt.hist(df['SentenceID']);"
   ]
  },
  {
   "cell_type": "code",
   "execution_count": 48,
   "metadata": {},
   "outputs": [
    {
     "data": {
      "text/plain": [
       "1.0      7355\n",
       "2.0      5875\n",
       "3.0      4833\n",
       "4.0      3830\n",
       "7.0      2921\n",
       "         ... \n",
       "202.0       1\n",
       "119.0       1\n",
       "220.0       1\n",
       "136.0       1\n",
       "219.0       1\n",
       "Name: SentenceID, Length: 121, dtype: int64"
      ]
     },
     "execution_count": 48,
     "metadata": {},
     "output_type": "execute_result"
    }
   ],
   "source": [
    "df['SentenceID'].value_counts()"
   ]
  },
  {
   "cell_type": "code",
   "execution_count": 49,
   "metadata": {},
   "outputs": [
    {
     "data": {
      "image/png": "[encoded data removed]",
      "text/plain": [
       "<Figure size 432x288 with 1 Axes>"
      ]
     },
     "metadata": {
      "needs_background": "light"
     },
     "output_type": "display_data"
    }
   ],
   "source": [
    "plt.hist(df['tone_diff']);"
   ]
  },
  {
   "cell_type": "code",
   "execution_count": null,
   "metadata": {},
   "outputs": [],
   "source": []
  },
  {
   "cell_type": "code",
   "execution_count": 33,
   "metadata": {},
   "outputs": [
    {
     "data": {
      "image/png": "[encoded data removed]",
      "text/plain": [
       "<Figure size 432x288 with 1 Axes>"
      ]
     },
     "metadata": {
      "needs_background": "light"
     },
     "output_type": "display_data"
    }
   ],
   "source": [
    "plt.hist(df['day_diff']);"
   ]
  },
  {
   "cell_type": "code",
   "execution_count": 34,
   "metadata": {},
   "outputs": [
    {
     "data": {
      "text/plain": [
       "0.0        42935\n",
       "10000.0      678\n",
       "7.0          154\n",
       "1.0          122\n",
       "99.0          68\n",
       "102.0         35\n",
       "8899.0        21\n",
       "76.0          20\n",
       "79.0          18\n",
       "8876.0        11\n",
       "70.0           4\n",
       "99998.0        2\n",
       "73.0           1\n",
       "Name: day_diff, dtype: int64"
      ]
     },
     "execution_count": 34,
     "metadata": {},
     "output_type": "execute_result"
    }
   ],
   "source": [
    "df['day_diff'].value_counts()"
   ]
  },
  {
   "cell_type": "code",
   "execution_count": 346,
   "metadata": {},
   "outputs": [
    {
     "data": {
      "image/png": "[encoded data removed]",
      "text/plain": [
       "<Figure size 432x288 with 1 Axes>"
      ]
     },
     "metadata": {
      "needs_background": "light"
     },
     "output_type": "display_data"
    }
   ],
   "source": [
    "plt.hist(df['min_diff']);"
   ]
  },
  {
   "cell_type": "code",
   "execution_count": 347,
   "metadata": {},
   "outputs": [
    {
     "data": {
      "text/plain": [
       "0.0       25838\n",
       "15.0       1114\n",
       "30.0        873\n",
       "45.0        766\n",
       "60.0        690\n",
       "          ...  \n",
       "1380.0       12\n",
       "1365.0       10\n",
       "1350.0       10\n",
       "1410.0        7\n",
       "1425.0        2\n",
       "Name: min_diff, Length: 96, dtype: int64"
      ]
     },
     "execution_count": 347,
     "metadata": {},
     "output_type": "execute_result"
    }
   ],
   "source": [
    "df['min_diff'].value_counts()"
   ]
  },
  {
   "cell_type": "code",
   "execution_count": 51,
   "metadata": {},
   "outputs": [
    {
     "data": {
      "text/plain": [
       "QuadClass\n",
       "1    25002\n",
       "2     4830\n",
       "3     7100\n",
       "4     7137\n",
       "Name: GlobalEventID, dtype: int64"
      ]
     },
     "execution_count": 51,
     "metadata": {},
     "output_type": "execute_result"
    }
   ],
   "source": [
    "df.groupby('QuadClass')['GlobalEventID'].count()"
   ]
  },
  {
   "cell_type": "code",
   "execution_count": 348,
   "metadata": {
    "scrolled": false
   },
   "outputs": [
    {
     "data": {
      "text/plain": [
       "<matplotlib.axes._subplots.AxesSubplot at 0x7fca57a67160>"
      ]
     },
     "execution_count": 348,
     "metadata": {},
     "output_type": "execute_result"
    },
    {
     "data": {
      "image/png": "[encoded data removed]",
      "text/plain": [
       "<Figure size 432x288 with 1 Axes>"
      ]
     },
     "metadata": {
      "needs_background": "light"
     },
     "output_type": "display_data"
    }
   ],
   "source": [
    "sns.boxplot(x='QuadClass', y='min_diff', data=df_dropped)"
   ]
  },
  {
   "cell_type": "code",
   "execution_count": 60,
   "metadata": {
    "scrolled": false
   },
   "outputs": [
    {
     "data": {
      "text/plain": [
       "array([None, 'BUS', 'IMG', 'GOV', 'CVL', 'MIL', 'LEG', 'NGO', 'MED',\n",
       "       'JUD', 'SPY', 'CRM', 'HLH', 'COP', 'IGO', 'EDU', 'LAB', 'AGR',\n",
       "       'OPP', 'INS', 'REB', 'UAF', 'MNC', 'SEP', 'UIS', 'ELI', 'REF',\n",
       "       'RAD', 'HRI', 'INT', 'ENV', 'SET'], dtype=object)"
      ]
     },
     "execution_count": 60,
     "metadata": {},
     "output_type": "execute_result"
    }
   ],
   "source": [
    "df['Actor1type1Code'].unique()"
   ]
  },
  {
   "cell_type": "code",
   "execution_count": 40,
   "metadata": {},
   "outputs": [],
   "source": [
    "df_final.to_parquet('s3://bdcc-lab/df_final.parquet')"
   ]
  },
  {
   "cell_type": "markdown",
   "metadata": {},
   "source": [
    "## Setting up X and y"
   ]
  },
  {
   "cell_type": "code",
   "execution_count": 3,
   "metadata": {
    "ExecuteTime": {
     "end_time": "2019-12-19T15:33:58.039044Z",
     "start_time": "2019-12-19T15:33:57.951010Z"
    }
   },
   "outputs": [],
   "source": [
    "X = df_final.drop(columns=['min_diff'])\n",
    "y = df_final['min_diff']"
   ]
  },
  {
   "cell_type": "code",
   "execution_count": 4,
   "metadata": {
    "ExecuteTime": {
     "end_time": "2019-12-19T15:33:58.637284Z",
     "start_time": "2019-12-19T15:33:58.629279Z"
    }
   },
   "outputs": [],
   "source": [
    "cols = X.columns"
   ]
  },
  {
   "cell_type": "code",
   "execution_count": 5,
   "metadata": {
    "ExecuteTime": {
     "end_time": "2019-12-19T15:34:01.014807Z",
     "start_time": "2019-12-19T15:33:59.618038Z"
    }
   },
   "outputs": [],
   "source": [
    "# from regression_ria import regression\n",
    "from sklearn.model_selection import train_test_split"
   ]
  },
  {
   "cell_type": "code",
   "execution_count": 6,
   "metadata": {
    "ExecuteTime": {
     "end_time": "2019-12-19T15:34:01.970919Z",
     "start_time": "2019-12-19T15:34:01.806906Z"
    }
   },
   "outputs": [],
   "source": [
    "X_train, X_test, y_train, y_test = train_test_split(X, y, test_size=0.25, random_state=42)"
   ]
  },
  {
   "cell_type": "code",
   "execution_count": 363,
   "metadata": {},
   "outputs": [
    {
     "name": "stdout",
     "output_type": "stream",
     "text": [
      "Training KNN\n"
     ]
    },
    {
     "name": "stderr",
     "output_type": "stream",
     "text": [
      "/home/jbuno/.local/lib/python3.7/site-packages/joblib/externals/loky/process_executor.py:706: UserWarning: A worker stopped while some jobs were given to the executor. This can be caused by a too short worker timeout or by a memory leak.\n",
      "  \"timeout or by a memory leak.\", UserWarning\n"
     ]
    },
    {
     "name": "stdout",
     "output_type": "stream",
     "text": [
      "Training KNN complete in 22.950253009796143 seconds \n",
      "\n",
      "Training Linear Regression\n",
      "Training Linear Regression complete in 2.1495330333709717 seconds \n",
      "\n",
      "Training Linear SVM\n"
     ]
    },
    {
     "name": "stderr",
     "output_type": "stream",
     "text": [
      "/home/jbuno/.local/lib/python3.7/site-packages/sklearn/svm/base.py:929: ConvergenceWarning: Liblinear failed to converge, increase the number of iterations.\n",
      "  \"the number of iterations.\", ConvergenceWarning)\n"
     ]
    },
    {
     "name": "stdout",
     "output_type": "stream",
     "text": [
      "Training Linear SVM complete in 36.04036855697632 seconds \n",
      "\n",
      "Training Decision Tree\n",
      "Training Decision Tree complete in 5.39584755897522 seconds \n",
      "\n",
      "Training Random Forest\n"
     ]
    },
    {
     "name": "stderr",
     "output_type": "stream",
     "text": [
      "/home/jbuno/.local/lib/python3.7/site-packages/sklearn/ensemble/forest.py:245: FutureWarning: The default value of n_estimators will change from 10 in version 0.20 to 100 in 0.22.\n",
      "  \"10 in version 0.20 to 100 in 0.22.\", FutureWarning)\n"
     ]
    },
    {
     "name": "stdout",
     "output_type": "stream",
     "text": [
      "Training Random Forest complete in 19.93030285835266 seconds \n",
      "\n",
      "Training Gradient Boost\n",
      "Training Gradient Boost complete in 687.8933086395264 seconds \n",
      "\n"
     ]
    },
    {
     "data": {
      "text/html": [
       "<div>\n",
       "<style scoped>\n",
       "    .dataframe tbody tr th:only-of-type {\n",
       "        vertical-align: middle;\n",
       "    }\n",
       "\n",
       "    .dataframe tbody tr th {\n",
       "        vertical-align: top;\n",
       "    }\n",
       "\n",
       "    .dataframe thead th {\n",
       "        text-align: right;\n",
       "    }\n",
       "</style>\n",
       "<table border=\"1\" class=\"dataframe\">\n",
       "  <thead>\n",
       "    <tr style=\"text-align: right;\">\n",
       "      <th></th>\n",
       "      <th>Test Accuracy</th>\n",
       "      <th>Train Accuracy</th>\n",
       "      <th>Best Parameters</th>\n",
       "      <th>Run Time</th>\n",
       "      <th>0</th>\n",
       "      <th>1</th>\n",
       "      <th>2</th>\n",
       "    </tr>\n",
       "  </thead>\n",
       "  <tbody>\n",
       "    <tr>\n",
       "      <td>KNN</td>\n",
       "      <td>0.274568</td>\n",
       "      <td>0.346445</td>\n",
       "      <td>{'n_neighbors': 18}</td>\n",
       "      <td>22.950253</td>\n",
       "      <td>[nan]</td>\n",
       "      <td>[nan]</td>\n",
       "      <td>[nan]</td>\n",
       "    </tr>\n",
       "    <tr>\n",
       "      <td>Linear Regression</td>\n",
       "      <td>0.308882</td>\n",
       "      <td>0.293509</td>\n",
       "      <td>{}</td>\n",
       "      <td>2.149533</td>\n",
       "      <td>(mention_article, -160.82762178169762)</td>\n",
       "      <td>(Actor1KnownGroupCode_WTO, 180.00211901377668)</td>\n",
       "      <td>(Actor1KnownGroupCode_ADB, 205.95240565403984)</td>\n",
       "    </tr>\n",
       "    <tr>\n",
       "      <td>Linear SVM</td>\n",
       "      <td>-0.180616</td>\n",
       "      <td>-0.191970</td>\n",
       "      <td>{'tol': 1e-05}</td>\n",
       "      <td>36.040369</td>\n",
       "      <td>(EventRootCode_05, 35.453709327243374)</td>\n",
       "      <td>(NumSources, 38.61501280255585)</td>\n",
       "      <td>(IsRootEvent_0, 39.56197190222384)</td>\n",
       "    </tr>\n",
       "    <tr>\n",
       "      <td>Decision Tree</td>\n",
       "      <td>0.614025</td>\n",
       "      <td>0.693964</td>\n",
       "      <td>{'max_depth': 9}</td>\n",
       "      <td>5.395848</td>\n",
       "      <td>(SentenceID, 0.06152771297783498)</td>\n",
       "      <td>(MentionDocLen, 0.06217580691685398)</td>\n",
       "      <td>(tone_diff, 0.6474390502703469)</td>\n",
       "    </tr>\n",
       "    <tr>\n",
       "      <td>Random Forest</td>\n",
       "      <td>0.694756</td>\n",
       "      <td>0.847753</td>\n",
       "      <td>{'max_depth': 14}</td>\n",
       "      <td>19.930303</td>\n",
       "      <td>(SentenceID, 0.06152771297783498)</td>\n",
       "      <td>(MentionDocLen, 0.06217580691685398)</td>\n",
       "      <td>(tone_diff, 0.6474390502703469)</td>\n",
       "    </tr>\n",
       "    <tr>\n",
       "      <td>Gradient Boost</td>\n",
       "      <td>0.719004</td>\n",
       "      <td>0.934718</td>\n",
       "      <td>{'max_depth': 11}</td>\n",
       "      <td>687.893309</td>\n",
       "      <td>(SentenceID, 0.06152771297783498)</td>\n",
       "      <td>(MentionDocLen, 0.06217580691685398)</td>\n",
       "      <td>(tone_diff, 0.6474390502703469)</td>\n",
       "    </tr>\n",
       "  </tbody>\n",
       "</table>\n",
       "</div>"
      ],
      "text/plain": [
       "                   Test Accuracy  Train Accuracy      Best Parameters  \\\n",
       "KNN                     0.274568        0.346445  {'n_neighbors': 18}   \n",
       "Linear Regression       0.308882        0.293509                   {}   \n",
       "Linear SVM             -0.180616       -0.191970       {'tol': 1e-05}   \n",
       "Decision Tree           0.614025        0.693964     {'max_depth': 9}   \n",
       "Random Forest           0.694756        0.847753    {'max_depth': 14}   \n",
       "Gradient Boost          0.719004        0.934718    {'max_depth': 11}   \n",
       "\n",
       "                     Run Time                                       0  \\\n",
       "KNN                 22.950253                                   [nan]   \n",
       "Linear Regression    2.149533  (mention_article, -160.82762178169762)   \n",
       "Linear SVM          36.040369  (EventRootCode_05, 35.453709327243374)   \n",
       "Decision Tree        5.395848       (SentenceID, 0.06152771297783498)   \n",
       "Random Forest       19.930303       (SentenceID, 0.06152771297783498)   \n",
       "Gradient Boost     687.893309       (SentenceID, 0.06152771297783498)   \n",
       "\n",
       "                                                                1  \\\n",
       "KNN                                                         [nan]   \n",
       "Linear Regression  (Actor1KnownGroupCode_WTO, 180.00211901377668)   \n",
       "Linear SVM                        (NumSources, 38.61501280255585)   \n",
       "Decision Tree                (MentionDocLen, 0.06217580691685398)   \n",
       "Random Forest                (MentionDocLen, 0.06217580691685398)   \n",
       "Gradient Boost               (MentionDocLen, 0.06217580691685398)   \n",
       "\n",
       "                                                                2  \n",
       "KNN                                                         [nan]  \n",
       "Linear Regression  (Actor1KnownGroupCode_ADB, 205.95240565403984)  \n",
       "Linear SVM                     (IsRootEvent_0, 39.56197190222384)  \n",
       "Decision Tree                     (tone_diff, 0.6474390502703469)  \n",
       "Random Forest                     (tone_diff, 0.6474390502703469)  \n",
       "Gradient Boost                    (tone_diff, 0.6474390502703469)  "
      ]
     },
     "execution_count": 363,
     "metadata": {},
     "output_type": "execute_result"
    }
   ],
   "source": [
    "#No Scale\n",
    "model1_noscale = regression(X_train, X_test, y_train, y_test, cols, scaler='None')\n",
    "model1_noscale"
   ]
  },
  {
   "cell_type": "markdown",
   "metadata": {},
   "source": [
    "## With Scaling"
   ]
  },
  {
   "cell_type": "code",
   "execution_count": 364,
   "metadata": {},
   "outputs": [],
   "source": [
    "from sklearn.preprocessing import StandardScaler\n",
    "from sklearn.preprocessing import MinMaxScaler"
   ]
  },
  {
   "cell_type": "code",
   "execution_count": 365,
   "metadata": {},
   "outputs": [],
   "source": [
    "mm=MinMaxScaler()\n",
    "ss = StandardScaler()"
   ]
  },
  {
   "cell_type": "code",
   "execution_count": 366,
   "metadata": {
    "scrolled": true
   },
   "outputs": [
    {
     "name": "stdout",
     "output_type": "stream",
     "text": [
      "Training KNN\n",
      "Training KNN complete in 570.2675330638885 seconds \n",
      "\n",
      "Training Linear Regression\n",
      "Training Linear Regression complete in 2.4082257747650146 seconds \n",
      "\n",
      "Training Linear SVM\n",
      "Training Linear SVM complete in 19.353331089019775 seconds \n",
      "\n",
      "Training Decision Tree\n",
      "Training Decision Tree complete in 8.501014709472656 seconds \n",
      "\n",
      "Training Random Forest\n"
     ]
    },
    {
     "name": "stderr",
     "output_type": "stream",
     "text": [
      "/home/jbuno/.local/lib/python3.7/site-packages/sklearn/ensemble/forest.py:245: FutureWarning: The default value of n_estimators will change from 10 in version 0.20 to 100 in 0.22.\n",
      "  \"10 in version 0.20 to 100 in 0.22.\", FutureWarning)\n"
     ]
    },
    {
     "name": "stdout",
     "output_type": "stream",
     "text": [
      "Training Random Forest complete in 31.434056043624878 seconds \n",
      "\n",
      "Training Gradient Boost\n"
     ]
    },
    {
     "name": "stderr",
     "output_type": "stream",
     "text": [
      "/home/jbuno/.local/lib/python3.7/site-packages/joblib/externals/loky/process_executor.py:706: UserWarning: A worker stopped while some jobs were given to the executor. This can be caused by a too short worker timeout or by a memory leak.\n",
      "  \"timeout or by a memory leak.\", UserWarning\n"
     ]
    },
    {
     "name": "stdout",
     "output_type": "stream",
     "text": [
      "Training Gradient Boost complete in 1250.0616290569305 seconds \n",
      "\n"
     ]
    },
    {
     "data": {
      "text/html": [
       "<div>\n",
       "<style scoped>\n",
       "    .dataframe tbody tr th:only-of-type {\n",
       "        vertical-align: middle;\n",
       "    }\n",
       "\n",
       "    .dataframe tbody tr th {\n",
       "        vertical-align: top;\n",
       "    }\n",
       "\n",
       "    .dataframe thead th {\n",
       "        text-align: right;\n",
       "    }\n",
       "</style>\n",
       "<table border=\"1\" class=\"dataframe\">\n",
       "  <thead>\n",
       "    <tr style=\"text-align: right;\">\n",
       "      <th></th>\n",
       "      <th>Test Accuracy</th>\n",
       "      <th>Train Accuracy</th>\n",
       "      <th>Best Parameters</th>\n",
       "      <th>Run Time</th>\n",
       "      <th>0</th>\n",
       "      <th>1</th>\n",
       "      <th>2</th>\n",
       "    </tr>\n",
       "  </thead>\n",
       "  <tbody>\n",
       "    <tr>\n",
       "      <td>KNN</td>\n",
       "      <td>5.029543e-01</td>\n",
       "      <td>0.619186</td>\n",
       "      <td>{'n_neighbors': 7}</td>\n",
       "      <td>570.267533</td>\n",
       "      <td>[nan]</td>\n",
       "      <td>[nan]</td>\n",
       "      <td>[nan]</td>\n",
       "    </tr>\n",
       "    <tr>\n",
       "      <td>Linear Regression</td>\n",
       "      <td>-2.222094e+20</td>\n",
       "      <td>0.293498</td>\n",
       "      <td>{}</td>\n",
       "      <td>2.408226</td>\n",
       "      <td>(Actor1_Religion, -481716879845749.3)</td>\n",
       "      <td>(EventRootCode_04, 481860371493104.94)</td>\n",
       "      <td>(QuadClass_3, 599949624479754.0)</td>\n",
       "    </tr>\n",
       "    <tr>\n",
       "      <td>Linear SVM</td>\n",
       "      <td>1.205777e-01</td>\n",
       "      <td>0.107567</td>\n",
       "      <td>{'tol': 0.021544346900318846}</td>\n",
       "      <td>19.353331</td>\n",
       "      <td>(ActionCharOffset, -73.8901609632675)</td>\n",
       "      <td>(NumSources, 79.45781739166748)</td>\n",
       "      <td>(NumArticles, -117.40894243959383)</td>\n",
       "    </tr>\n",
       "    <tr>\n",
       "      <td>Decision Tree</td>\n",
       "      <td>6.140247e-01</td>\n",
       "      <td>0.693964</td>\n",
       "      <td>{'max_depth': 9}</td>\n",
       "      <td>8.501015</td>\n",
       "      <td>(SentenceID, 0.06152771297783498)</td>\n",
       "      <td>(MentionDocLen, 0.06217580691685398)</td>\n",
       "      <td>(tone_diff, 0.6474390502703469)</td>\n",
       "    </tr>\n",
       "    <tr>\n",
       "      <td>Random Forest</td>\n",
       "      <td>6.947118e-01</td>\n",
       "      <td>0.847756</td>\n",
       "      <td>{'max_depth': 14}</td>\n",
       "      <td>31.434056</td>\n",
       "      <td>(SentenceID, 0.06152771297783498)</td>\n",
       "      <td>(MentionDocLen, 0.06217580691685398)</td>\n",
       "      <td>(tone_diff, 0.6474390502703469)</td>\n",
       "    </tr>\n",
       "    <tr>\n",
       "      <td>Gradient Boost</td>\n",
       "      <td>7.187324e-01</td>\n",
       "      <td>0.934718</td>\n",
       "      <td>{'max_depth': 11}</td>\n",
       "      <td>1250.061629</td>\n",
       "      <td>(SentenceID, 0.06152771297783498)</td>\n",
       "      <td>(MentionDocLen, 0.06217580691685398)</td>\n",
       "      <td>(tone_diff, 0.6474390502703469)</td>\n",
       "    </tr>\n",
       "  </tbody>\n",
       "</table>\n",
       "</div>"
      ],
      "text/plain": [
       "                   Test Accuracy  Train Accuracy  \\\n",
       "KNN                 5.029543e-01        0.619186   \n",
       "Linear Regression  -2.222094e+20        0.293498   \n",
       "Linear SVM          1.205777e-01        0.107567   \n",
       "Decision Tree       6.140247e-01        0.693964   \n",
       "Random Forest       6.947118e-01        0.847756   \n",
       "Gradient Boost      7.187324e-01        0.934718   \n",
       "\n",
       "                                 Best Parameters     Run Time  \\\n",
       "KNN                           {'n_neighbors': 7}   570.267533   \n",
       "Linear Regression                             {}     2.408226   \n",
       "Linear SVM         {'tol': 0.021544346900318846}    19.353331   \n",
       "Decision Tree                   {'max_depth': 9}     8.501015   \n",
       "Random Forest                  {'max_depth': 14}    31.434056   \n",
       "Gradient Boost                 {'max_depth': 11}  1250.061629   \n",
       "\n",
       "                                                       0  \\\n",
       "KNN                                                [nan]   \n",
       "Linear Regression  (Actor1_Religion, -481716879845749.3)   \n",
       "Linear SVM         (ActionCharOffset, -73.8901609632675)   \n",
       "Decision Tree          (SentenceID, 0.06152771297783498)   \n",
       "Random Forest          (SentenceID, 0.06152771297783498)   \n",
       "Gradient Boost         (SentenceID, 0.06152771297783498)   \n",
       "\n",
       "                                                        1  \\\n",
       "KNN                                                 [nan]   \n",
       "Linear Regression  (EventRootCode_04, 481860371493104.94)   \n",
       "Linear SVM                (NumSources, 79.45781739166748)   \n",
       "Decision Tree        (MentionDocLen, 0.06217580691685398)   \n",
       "Random Forest        (MentionDocLen, 0.06217580691685398)   \n",
       "Gradient Boost       (MentionDocLen, 0.06217580691685398)   \n",
       "\n",
       "                                                    2  \n",
       "KNN                                             [nan]  \n",
       "Linear Regression    (QuadClass_3, 599949624479754.0)  \n",
       "Linear SVM         (NumArticles, -117.40894243959383)  \n",
       "Decision Tree         (tone_diff, 0.6474390502703469)  \n",
       "Random Forest         (tone_diff, 0.6474390502703469)  \n",
       "Gradient Boost        (tone_diff, 0.6474390502703469)  "
      ]
     },
     "execution_count": 366,
     "metadata": {},
     "output_type": "execute_result"
    }
   ],
   "source": [
    "model1_ss = regression(X_train, X_test, y_train, y_test, cols, scaler='ss')\n",
    "model1_ss"
   ]
  },
  {
   "cell_type": "code",
   "execution_count": 367,
   "metadata": {
    "scrolled": false
   },
   "outputs": [
    {
     "name": "stdout",
     "output_type": "stream",
     "text": [
      "Training KNN\n",
      "Training KNN complete in 759.0364849567413 seconds \n",
      "\n",
      "Training Linear Regression\n",
      "Training Linear Regression complete in 2.419456958770752 seconds \n",
      "\n",
      "Training Linear SVM\n",
      "Training Linear SVM complete in 3.5382394790649414 seconds \n",
      "\n",
      "Training Decision Tree\n",
      "Training Decision Tree complete in 8.53028917312622 seconds \n",
      "\n",
      "Training Random Forest\n"
     ]
    },
    {
     "name": "stderr",
     "output_type": "stream",
     "text": [
      "/home/jbuno/.local/lib/python3.7/site-packages/sklearn/ensemble/forest.py:245: FutureWarning: The default value of n_estimators will change from 10 in version 0.20 to 100 in 0.22.\n",
      "  \"10 in version 0.20 to 100 in 0.22.\", FutureWarning)\n"
     ]
    },
    {
     "name": "stdout",
     "output_type": "stream",
     "text": [
      "Training Random Forest complete in 31.62661600112915 seconds \n",
      "\n",
      "Training Gradient Boost\n"
     ]
    },
    {
     "name": "stderr",
     "output_type": "stream",
     "text": [
      "/home/jbuno/.local/lib/python3.7/site-packages/joblib/externals/loky/process_executor.py:706: UserWarning: A worker stopped while some jobs were given to the executor. This can be caused by a too short worker timeout or by a memory leak.\n",
      "  \"timeout or by a memory leak.\", UserWarning\n"
     ]
    },
    {
     "name": "stdout",
     "output_type": "stream",
     "text": [
      "Training Gradient Boost complete in 1222.7480027675629 seconds \n",
      "\n"
     ]
    },
    {
     "data": {
      "text/html": [
       "<div>\n",
       "<style scoped>\n",
       "    .dataframe tbody tr th:only-of-type {\n",
       "        vertical-align: middle;\n",
       "    }\n",
       "\n",
       "    .dataframe tbody tr th {\n",
       "        vertical-align: top;\n",
       "    }\n",
       "\n",
       "    .dataframe thead th {\n",
       "        text-align: right;\n",
       "    }\n",
       "</style>\n",
       "<table border=\"1\" class=\"dataframe\">\n",
       "  <thead>\n",
       "    <tr style=\"text-align: right;\">\n",
       "      <th></th>\n",
       "      <th>Test Accuracy</th>\n",
       "      <th>Train Accuracy</th>\n",
       "      <th>Best Parameters</th>\n",
       "      <th>Run Time</th>\n",
       "      <th>0</th>\n",
       "      <th>1</th>\n",
       "      <th>2</th>\n",
       "    </tr>\n",
       "  </thead>\n",
       "  <tbody>\n",
       "    <tr>\n",
       "      <td>KNN</td>\n",
       "      <td>4.804588e-01</td>\n",
       "      <td>0.605240</td>\n",
       "      <td>{'n_neighbors': 7}</td>\n",
       "      <td>759.036485</td>\n",
       "      <td>[nan]</td>\n",
       "      <td>[nan]</td>\n",
       "      <td>[nan]</td>\n",
       "    </tr>\n",
       "    <tr>\n",
       "      <td>Linear Regression</td>\n",
       "      <td>-4.028656e+10</td>\n",
       "      <td>0.293505</td>\n",
       "      <td>{}</td>\n",
       "      <td>2.419457</td>\n",
       "      <td>(MentionDocTone, 125539178183705.66)</td>\n",
       "      <td>(QuadClass_4, -130680061878684.56)</td>\n",
       "      <td>(QuadClass_1, -168142130033265.06)</td>\n",
       "    </tr>\n",
       "    <tr>\n",
       "      <td>Linear SVM</td>\n",
       "      <td>-2.145293e-02</td>\n",
       "      <td>-0.030540</td>\n",
       "      <td>{'tol': 3.593813663804626}</td>\n",
       "      <td>3.538239</td>\n",
       "      <td>(SentenceID, 131.917310082157)</td>\n",
       "      <td>(mention_source, -175.77642637834603)</td>\n",
       "      <td>(NumSources, 192.2203646440512)</td>\n",
       "    </tr>\n",
       "    <tr>\n",
       "      <td>Decision Tree</td>\n",
       "      <td>6.140247e-01</td>\n",
       "      <td>0.693964</td>\n",
       "      <td>{'max_depth': 9}</td>\n",
       "      <td>8.530289</td>\n",
       "      <td>(SentenceID, 0.06152771297783498)</td>\n",
       "      <td>(MentionDocLen, 0.06217580691685398)</td>\n",
       "      <td>(tone_diff, 0.6474390502703469)</td>\n",
       "    </tr>\n",
       "    <tr>\n",
       "      <td>Random Forest</td>\n",
       "      <td>6.941800e-01</td>\n",
       "      <td>0.847868</td>\n",
       "      <td>{'max_depth': 14}</td>\n",
       "      <td>31.626616</td>\n",
       "      <td>(SentenceID, 0.06152771297783498)</td>\n",
       "      <td>(MentionDocLen, 0.06217580691685398)</td>\n",
       "      <td>(tone_diff, 0.6474390502703469)</td>\n",
       "    </tr>\n",
       "    <tr>\n",
       "      <td>Gradient Boost</td>\n",
       "      <td>7.203185e-01</td>\n",
       "      <td>0.915262</td>\n",
       "      <td>{'max_depth': 10}</td>\n",
       "      <td>1222.748003</td>\n",
       "      <td>(SentenceID, 0.06152771297783498)</td>\n",
       "      <td>(MentionDocLen, 0.06217580691685398)</td>\n",
       "      <td>(tone_diff, 0.6474390502703469)</td>\n",
       "    </tr>\n",
       "  </tbody>\n",
       "</table>\n",
       "</div>"
      ],
      "text/plain": [
       "                   Test Accuracy  Train Accuracy             Best Parameters  \\\n",
       "KNN                 4.804588e-01        0.605240          {'n_neighbors': 7}   \n",
       "Linear Regression  -4.028656e+10        0.293505                          {}   \n",
       "Linear SVM         -2.145293e-02       -0.030540  {'tol': 3.593813663804626}   \n",
       "Decision Tree       6.140247e-01        0.693964            {'max_depth': 9}   \n",
       "Random Forest       6.941800e-01        0.847868           {'max_depth': 14}   \n",
       "Gradient Boost      7.203185e-01        0.915262           {'max_depth': 10}   \n",
       "\n",
       "                      Run Time                                     0  \\\n",
       "KNN                 759.036485                                 [nan]   \n",
       "Linear Regression     2.419457  (MentionDocTone, 125539178183705.66)   \n",
       "Linear SVM            3.538239        (SentenceID, 131.917310082157)   \n",
       "Decision Tree         8.530289     (SentenceID, 0.06152771297783498)   \n",
       "Random Forest        31.626616     (SentenceID, 0.06152771297783498)   \n",
       "Gradient Boost     1222.748003     (SentenceID, 0.06152771297783498)   \n",
       "\n",
       "                                                       1  \\\n",
       "KNN                                                [nan]   \n",
       "Linear Regression     (QuadClass_4, -130680061878684.56)   \n",
       "Linear SVM         (mention_source, -175.77642637834603)   \n",
       "Decision Tree       (MentionDocLen, 0.06217580691685398)   \n",
       "Random Forest       (MentionDocLen, 0.06217580691685398)   \n",
       "Gradient Boost      (MentionDocLen, 0.06217580691685398)   \n",
       "\n",
       "                                                    2  \n",
       "KNN                                             [nan]  \n",
       "Linear Regression  (QuadClass_1, -168142130033265.06)  \n",
       "Linear SVM            (NumSources, 192.2203646440512)  \n",
       "Decision Tree         (tone_diff, 0.6474390502703469)  \n",
       "Random Forest         (tone_diff, 0.6474390502703469)  \n",
       "Gradient Boost        (tone_diff, 0.6474390502703469)  "
      ]
     },
     "execution_count": 367,
     "metadata": {},
     "output_type": "execute_result"
    }
   ],
   "source": [
    "model1_mm = regression(X_train, X_test, y_train, y_test, cols, scaler='mm')\n",
    "model1_mm"
   ]
  },
  {
   "cell_type": "code",
   "execution_count": 355,
   "metadata": {},
   "outputs": [],
   "source": [
    "def regression(X_train, X_val, y_train, y_val, cols, scaler=None):\n",
    "    kneighbors = range(1, 20)\n",
    "    a = np.logspace(-5, 5, num=10)\n",
    "    gamma_list = np.logspace(-5, 5, num=10)\n",
    "    depth_settings = range(1, 15)\n",
    "    tolerance = np.logspace(-5, 5, num=10)\n",
    "    \n",
    "#     knn = KNeighborsRegressor(n_jobs=1)\n",
    "#     lin_reg = LinearRegression()\n",
    "#     lasso = Lasso(alpha=a)\n",
    "#     ridge = Ridge(alpha=a)\n",
    "#     lin_svm = LinearSVR(random_state=0, tol=tolerance)\n",
    "#     nsvm_poly = SVR(kernel='poly', degree=3)\n",
    "    d_tree = DecisionTreeRegressor(random_state=0, max_depth=depth_settings)\n",
    "    r_forest = RandomForestRegressor(max_depth=depth_settings, random_state=0)\n",
    "#     g_boost = GradientBoostingRegressor(random_state=0, max_depth=depth_settings, learning_rate=0.1)\n",
    "    \n",
    "    est = [\n",
    "#         ('KNN',knn,{'n_neighbors':kneighbors}),\n",
    "#        ('Linear Regression',lin_reg,{}),\n",
    "#       ('Linear SVM',lin_svm,{'tol':tolerance}),\n",
    "      ('Decision Tree',d_tree,{'max_depth':depth_settings}),\n",
    "      ('Random Forest',r_forest,{'max_depth':depth_settings}),\n",
    "#       ('Gradient Boost',g_boost,{'max_depth':depth_settings}),\n",
    "    ]\n",
    "    \n",
    "#     X_train, X_val, y_train, y_val = train_test_split(X, y,random_state=1)\n",
    "    \n",
    "    if scaler == 'ss':\n",
    "        scale = StandardScaler()\n",
    "        X_train = scale.fit_transform(X = X_train)\n",
    "        X_val = scale.transform(X = X_val)\n",
    "    elif scaler == 'mm':\n",
    "        scale = MinMaxScaler()\n",
    "        X_train = scale.fit_transform(X_train)\n",
    "        X_val = scale.transform(X_val)\n",
    "    else:\n",
    "        pass\n",
    "    \n",
    "    models = {}\n",
    "    for e in est:\n",
    "        print(f'Training {e[0]}')\n",
    "        start_time = time.time()\n",
    "        gs_cv = GridSearchCV(e[1], param_grid=e[2], n_jobs=-1, cv=5)\n",
    "        gs_cv.fit(X_train, y_train)\n",
    "        end_time = time.time()\n",
    "        elapsed_time = end_time - start_time\n",
    "        models[e[0]] = gs_cv, elapsed_time\n",
    "        print(f'Training {e[0]} complete in {elapsed_time} seconds \\n')\n",
    "    \n",
    "    accuracy_summary ={}\n",
    "    for m in models:\n",
    "        test_acc = models[m][0].best_estimator_.score(X_val, y_val)\n",
    "        train_acc = models[m][0].best_estimator_.score(X_train, y_train)\n",
    "        best_param = models[m][0].best_params_\n",
    "        accuracy_summary[m] = test_acc, train_acc, best_param, models[m][1]\n",
    "    \n",
    "    results_summary = pd.DataFrame.from_dict(accuracy_summary, orient='index', columns=['Test Accuracy', 'Train Accuracy', 'Best Parameters', 'Run Time'])\n",
    "    \n",
    "    #linear\n",
    "    summary={}\n",
    "#     methods_l = ['Linear Regression','Linear SVM']\n",
    "\n",
    "#     for m in methods_l:\n",
    "#         coefs = (models[m][0].best_estimator_.coef_)\n",
    "#         top_3 = np.abs(coefs).argsort()[-3:]\n",
    "#         if m=='Linear Regression':\n",
    "#             coefs = coefs.flatten()\n",
    "#             top_3 = top_3.flatten()[-3:]\n",
    "#         pred = list(zip(cols[top_3],(coefs)[top_3]))\n",
    "#         summary[m] = pred\n",
    "\n",
    "    #ensamble\n",
    "    methods_e = ['Decision Tree', 'Random Forest']\n",
    "    pred = []\n",
    "    for m in methods_e:\n",
    "        coefs = [(cols[(models[m][0].best_estimator_.feature_importances_).argsort()[-3:]\n",
    "                           ], models[m][0].best_estimator_.feature_importances_[\n",
    "            (models[m][0].best_estimator_.feature_importances_).argsort()[-3:]])]\n",
    "\n",
    "        coeff = list(zip(*coefs[0]))\n",
    "        pred.append(coeff)\n",
    "        summary[m] = pred[0]\n",
    "\n",
    "        #no coeff\n",
    "#     methods_no = ['KNN']\n",
    "#     for m in methods_no:\n",
    "#         summary[m] = [[np.nan],[np.nan],[np.nan]]\n",
    "\n",
    "    df_summary_c1 = pd.DataFrame.from_dict(summary)\n",
    "    return results_summary.join(df_summary_c1.T, how='left')"
   ]
  },
  {
   "cell_type": "code",
   "execution_count": 353,
   "metadata": {},
   "outputs": [
    {
     "name": "stdout",
     "output_type": "stream",
     "text": [
      "Training Decision Tree\n",
      "Training Decision Tree complete in 8.171297311782837 seconds \n",
      "\n",
      "Training Random Forest\n"
     ]
    },
    {
     "name": "stderr",
     "output_type": "stream",
     "text": [
      "/home/jbuno/.local/lib/python3.7/site-packages/sklearn/ensemble/forest.py:245: FutureWarning: The default value of n_estimators will change from 10 in version 0.20 to 100 in 0.22.\n",
      "  \"10 in version 0.20 to 100 in 0.22.\", FutureWarning)\n"
     ]
    },
    {
     "name": "stdout",
     "output_type": "stream",
     "text": [
      "Training Random Forest complete in 31.00946283340454 seconds \n",
      "\n"
     ]
    },
    {
     "data": {
      "text/html": [
       "<div>\n",
       "<style scoped>\n",
       "    .dataframe tbody tr th:only-of-type {\n",
       "        vertical-align: middle;\n",
       "    }\n",
       "\n",
       "    .dataframe tbody tr th {\n",
       "        vertical-align: top;\n",
       "    }\n",
       "\n",
       "    .dataframe thead th {\n",
       "        text-align: right;\n",
       "    }\n",
       "</style>\n",
       "<table border=\"1\" class=\"dataframe\">\n",
       "  <thead>\n",
       "    <tr style=\"text-align: right;\">\n",
       "      <th></th>\n",
       "      <th>Test Accuracy</th>\n",
       "      <th>Train Accuracy</th>\n",
       "      <th>Best Parameters</th>\n",
       "      <th>Run Time</th>\n",
       "      <th>0</th>\n",
       "      <th>1</th>\n",
       "      <th>2</th>\n",
       "    </tr>\n",
       "  </thead>\n",
       "  <tbody>\n",
       "    <tr>\n",
       "      <td>Decision Tree</td>\n",
       "      <td>0.614025</td>\n",
       "      <td>0.693964</td>\n",
       "      <td>{'max_depth': 9}</td>\n",
       "      <td>8.171297</td>\n",
       "      <td>(SentenceID, 0.06152771297783498)</td>\n",
       "      <td>(MentionDocLen, 0.06217580691685398)</td>\n",
       "      <td>(tone_diff, 0.6474390502703469)</td>\n",
       "    </tr>\n",
       "    <tr>\n",
       "      <td>Random Forest</td>\n",
       "      <td>0.694180</td>\n",
       "      <td>0.847868</td>\n",
       "      <td>{'max_depth': 14}</td>\n",
       "      <td>31.009463</td>\n",
       "      <td>(SentenceID, 0.06152771297783498)</td>\n",
       "      <td>(MentionDocLen, 0.06217580691685398)</td>\n",
       "      <td>(tone_diff, 0.6474390502703469)</td>\n",
       "    </tr>\n",
       "  </tbody>\n",
       "</table>\n",
       "</div>"
      ],
      "text/plain": [
       "               Test Accuracy  Train Accuracy    Best Parameters   Run Time  \\\n",
       "Decision Tree       0.614025        0.693964   {'max_depth': 9}   8.171297   \n",
       "Random Forest       0.694180        0.847868  {'max_depth': 14}  31.009463   \n",
       "\n",
       "                                               0  \\\n",
       "Decision Tree  (SentenceID, 0.06152771297783498)   \n",
       "Random Forest  (SentenceID, 0.06152771297783498)   \n",
       "\n",
       "                                                  1  \\\n",
       "Decision Tree  (MentionDocLen, 0.06217580691685398)   \n",
       "Random Forest  (MentionDocLen, 0.06217580691685398)   \n",
       "\n",
       "                                             2  \n",
       "Decision Tree  (tone_diff, 0.6474390502703469)  \n",
       "Random Forest  (tone_diff, 0.6474390502703469)  "
      ]
     },
     "execution_count": 353,
     "metadata": {},
     "output_type": "execute_result"
    }
   ],
   "source": [
    "model1_mm = regression(X_train, X_test, y_train, y_test, cols, scaler='mm')\n",
    "model1_mm"
   ]
  },
  {
   "cell_type": "code",
   "execution_count": 306,
   "metadata": {},
   "outputs": [
    {
     "data": {
      "text/plain": [
       "array([0., 0., 0., 0., 0., 0., 0., 0., 0., 0., 0., 0., 0., 1., 0., 0., 0.,\n",
       "       0., 0., 0., 0., 0., 0., 0., 0., 0., 0., 0., 0., 0., 0., 0., 0., 0.,\n",
       "       0., 0., 0., 0., 0., 0., 0., 0., 0., 0., 0., 0., 0., 0., 0., 0., 0.,\n",
       "       0., 0., 0., 0., 0., 0., 0., 0., 0., 0., 0., 0., 0., 0., 0., 0., 0.,\n",
       "       0., 0., 0., 0., 0., 0., 0., 0., 0., 0., 0., 0., 0., 0., 0., 0., 0.,\n",
       "       0., 0., 0., 0., 0., 0., 0., 0., 0., 0., 0., 0., 0., 0., 0., 0., 0.,\n",
       "       0., 0., 0., 0., 0., 0., 0., 0., 0., 0., 0., 0., 0., 0., 0., 0., 0.,\n",
       "       0., 0., 0., 0., 0., 0., 0., 0., 0., 0., 0., 0., 0., 0., 0., 0., 0.,\n",
       "       0., 0., 0., 0., 0., 0., 0., 0., 0., 0., 0., 0., 0., 0., 0., 0., 0.])"
      ]
     },
     "execution_count": 306,
     "metadata": {},
     "output_type": "execute_result"
    }
   ],
   "source": [
    "model1_mm.best_estimator_.feature_importances_"
   ]
  },
  {
   "cell_type": "code",
   "execution_count": 356,
   "metadata": {},
   "outputs": [
    {
     "name": "stdout",
     "output_type": "stream",
     "text": [
      "Training Decision Tree\n",
      "Training Decision Tree complete in 8.144410133361816 seconds \n",
      "\n",
      "Training Random Forest\n"
     ]
    },
    {
     "name": "stderr",
     "output_type": "stream",
     "text": [
      "/home/jbuno/.local/lib/python3.7/site-packages/sklearn/ensemble/forest.py:245: FutureWarning: The default value of n_estimators will change from 10 in version 0.20 to 100 in 0.22.\n",
      "  \"10 in version 0.20 to 100 in 0.22.\", FutureWarning)\n"
     ]
    },
    {
     "name": "stdout",
     "output_type": "stream",
     "text": [
      "Training Random Forest complete in 31.0899019241333 seconds \n",
      "\n"
     ]
    },
    {
     "data": {
      "text/html": [
       "<div>\n",
       "<style scoped>\n",
       "    .dataframe tbody tr th:only-of-type {\n",
       "        vertical-align: middle;\n",
       "    }\n",
       "\n",
       "    .dataframe tbody tr th {\n",
       "        vertical-align: top;\n",
       "    }\n",
       "\n",
       "    .dataframe thead th {\n",
       "        text-align: right;\n",
       "    }\n",
       "</style>\n",
       "<table border=\"1\" class=\"dataframe\">\n",
       "  <thead>\n",
       "    <tr style=\"text-align: right;\">\n",
       "      <th></th>\n",
       "      <th>Test Accuracy</th>\n",
       "      <th>Train Accuracy</th>\n",
       "      <th>Best Parameters</th>\n",
       "      <th>Run Time</th>\n",
       "      <th>0</th>\n",
       "      <th>1</th>\n",
       "      <th>2</th>\n",
       "    </tr>\n",
       "  </thead>\n",
       "  <tbody>\n",
       "    <tr>\n",
       "      <td>Decision Tree</td>\n",
       "      <td>0.614025</td>\n",
       "      <td>0.693964</td>\n",
       "      <td>{'max_depth': 9}</td>\n",
       "      <td>8.144410</td>\n",
       "      <td>(SentenceID, 0.06152771297783498)</td>\n",
       "      <td>(MentionDocLen, 0.06217580691685398)</td>\n",
       "      <td>(tone_diff, 0.6474390502703469)</td>\n",
       "    </tr>\n",
       "    <tr>\n",
       "      <td>Random Forest</td>\n",
       "      <td>0.694712</td>\n",
       "      <td>0.847756</td>\n",
       "      <td>{'max_depth': 14}</td>\n",
       "      <td>31.089902</td>\n",
       "      <td>(SentenceID, 0.06152771297783498)</td>\n",
       "      <td>(MentionDocLen, 0.06217580691685398)</td>\n",
       "      <td>(tone_diff, 0.6474390502703469)</td>\n",
       "    </tr>\n",
       "  </tbody>\n",
       "</table>\n",
       "</div>"
      ],
      "text/plain": [
       "               Test Accuracy  Train Accuracy    Best Parameters   Run Time  \\\n",
       "Decision Tree       0.614025        0.693964   {'max_depth': 9}   8.144410   \n",
       "Random Forest       0.694712        0.847756  {'max_depth': 14}  31.089902   \n",
       "\n",
       "                                               0  \\\n",
       "Decision Tree  (SentenceID, 0.06152771297783498)   \n",
       "Random Forest  (SentenceID, 0.06152771297783498)   \n",
       "\n",
       "                                                  1  \\\n",
       "Decision Tree  (MentionDocLen, 0.06217580691685398)   \n",
       "Random Forest  (MentionDocLen, 0.06217580691685398)   \n",
       "\n",
       "                                             2  \n",
       "Decision Tree  (tone_diff, 0.6474390502703469)  \n",
       "Random Forest  (tone_diff, 0.6474390502703469)  "
      ]
     },
     "execution_count": 356,
     "metadata": {},
     "output_type": "execute_result"
    }
   ],
   "source": [
    "model1_ss = regression(X_train, X_test, y_train, y_test, cols, scaler='ss')\n",
    "model1_ss"
   ]
  },
  {
   "cell_type": "code",
   "execution_count": 357,
   "metadata": {},
   "outputs": [
    {
     "name": "stdout",
     "output_type": "stream",
     "text": [
      "Training Decision Tree\n",
      "Training Decision Tree complete in 5.413174867630005 seconds \n",
      "\n",
      "Training Random Forest\n"
     ]
    },
    {
     "name": "stderr",
     "output_type": "stream",
     "text": [
      "/home/jbuno/.local/lib/python3.7/site-packages/sklearn/ensemble/forest.py:245: FutureWarning: The default value of n_estimators will change from 10 in version 0.20 to 100 in 0.22.\n",
      "  \"10 in version 0.20 to 100 in 0.22.\", FutureWarning)\n"
     ]
    },
    {
     "name": "stdout",
     "output_type": "stream",
     "text": [
      "Training Random Forest complete in 19.931671619415283 seconds \n",
      "\n"
     ]
    },
    {
     "data": {
      "text/html": [
       "<div>\n",
       "<style scoped>\n",
       "    .dataframe tbody tr th:only-of-type {\n",
       "        vertical-align: middle;\n",
       "    }\n",
       "\n",
       "    .dataframe tbody tr th {\n",
       "        vertical-align: top;\n",
       "    }\n",
       "\n",
       "    .dataframe thead th {\n",
       "        text-align: right;\n",
       "    }\n",
       "</style>\n",
       "<table border=\"1\" class=\"dataframe\">\n",
       "  <thead>\n",
       "    <tr style=\"text-align: right;\">\n",
       "      <th></th>\n",
       "      <th>Test Accuracy</th>\n",
       "      <th>Train Accuracy</th>\n",
       "      <th>Best Parameters</th>\n",
       "      <th>Run Time</th>\n",
       "      <th>0</th>\n",
       "      <th>1</th>\n",
       "      <th>2</th>\n",
       "    </tr>\n",
       "  </thead>\n",
       "  <tbody>\n",
       "    <tr>\n",
       "      <td>Decision Tree</td>\n",
       "      <td>0.614025</td>\n",
       "      <td>0.693964</td>\n",
       "      <td>{'max_depth': 9}</td>\n",
       "      <td>5.413175</td>\n",
       "      <td>(SentenceID, 0.06152771297783498)</td>\n",
       "      <td>(MentionDocLen, 0.06217580691685398)</td>\n",
       "      <td>(tone_diff, 0.6474390502703469)</td>\n",
       "    </tr>\n",
       "    <tr>\n",
       "      <td>Random Forest</td>\n",
       "      <td>0.694756</td>\n",
       "      <td>0.847753</td>\n",
       "      <td>{'max_depth': 14}</td>\n",
       "      <td>19.931672</td>\n",
       "      <td>(SentenceID, 0.06152771297783498)</td>\n",
       "      <td>(MentionDocLen, 0.06217580691685398)</td>\n",
       "      <td>(tone_diff, 0.6474390502703469)</td>\n",
       "    </tr>\n",
       "  </tbody>\n",
       "</table>\n",
       "</div>"
      ],
      "text/plain": [
       "               Test Accuracy  Train Accuracy    Best Parameters   Run Time  \\\n",
       "Decision Tree       0.614025        0.693964   {'max_depth': 9}   5.413175   \n",
       "Random Forest       0.694756        0.847753  {'max_depth': 14}  19.931672   \n",
       "\n",
       "                                               0  \\\n",
       "Decision Tree  (SentenceID, 0.06152771297783498)   \n",
       "Random Forest  (SentenceID, 0.06152771297783498)   \n",
       "\n",
       "                                                  1  \\\n",
       "Decision Tree  (MentionDocLen, 0.06217580691685398)   \n",
       "Random Forest  (MentionDocLen, 0.06217580691685398)   \n",
       "\n",
       "                                             2  \n",
       "Decision Tree  (tone_diff, 0.6474390502703469)  \n",
       "Random Forest  (tone_diff, 0.6474390502703469)  "
      ]
     },
     "execution_count": 357,
     "metadata": {},
     "output_type": "execute_result"
    }
   ],
   "source": [
    "model1_ = regression(X_train, X_test, y_train, y_test, cols)\n",
    "model1_"
   ]
  },
  {
   "cell_type": "code",
   "execution_count": 370,
   "metadata": {},
   "outputs": [
    {
     "data": {
      "text/html": [
       "<div>\n",
       "<style scoped>\n",
       "    .dataframe tbody tr th:only-of-type {\n",
       "        vertical-align: middle;\n",
       "    }\n",
       "\n",
       "    .dataframe tbody tr th {\n",
       "        vertical-align: top;\n",
       "    }\n",
       "\n",
       "    .dataframe thead th {\n",
       "        text-align: right;\n",
       "    }\n",
       "</style>\n",
       "<table border=\"1\" class=\"dataframe\">\n",
       "  <thead>\n",
       "    <tr style=\"text-align: right;\">\n",
       "      <th></th>\n",
       "      <th>SentenceID</th>\n",
       "      <th>Actor1CharOffset</th>\n",
       "      <th>Actor2CharOffset</th>\n",
       "      <th>ActionCharOffset</th>\n",
       "      <th>MentionDocLen</th>\n",
       "      <th>MentionDocTone</th>\n",
       "      <th>NumMentions</th>\n",
       "      <th>NumSources</th>\n",
       "      <th>NumArticles</th>\n",
       "      <th>AvgTone</th>\n",
       "      <th>...</th>\n",
       "      <th>Actor1_cc_Oceania</th>\n",
       "      <th>Actor1_cc_Philippines</th>\n",
       "      <th>Actor1_cc_South America</th>\n",
       "      <th>Actor2_cc_Africa</th>\n",
       "      <th>Actor2_cc_Asia</th>\n",
       "      <th>Actor2_cc_Europe</th>\n",
       "      <th>Actor2_cc_North America</th>\n",
       "      <th>Actor2_cc_Oceania</th>\n",
       "      <th>Actor2_cc_Philippines</th>\n",
       "      <th>Actor2_cc_South America</th>\n",
       "    </tr>\n",
       "    <tr>\n",
       "      <th>GlobalEventID</th>\n",
       "      <th></th>\n",
       "      <th></th>\n",
       "      <th></th>\n",
       "      <th></th>\n",
       "      <th></th>\n",
       "      <th></th>\n",
       "      <th></th>\n",
       "      <th></th>\n",
       "      <th></th>\n",
       "      <th></th>\n",
       "      <th></th>\n",
       "      <th></th>\n",
       "      <th></th>\n",
       "      <th></th>\n",
       "      <th></th>\n",
       "      <th></th>\n",
       "      <th></th>\n",
       "      <th></th>\n",
       "      <th></th>\n",
       "      <th></th>\n",
       "      <th></th>\n",
       "    </tr>\n",
       "  </thead>\n",
       "  <tbody>\n",
       "    <tr>\n",
       "      <td>818321985.0</td>\n",
       "      <td>1.0</td>\n",
       "      <td>741.0</td>\n",
       "      <td>-1.0</td>\n",
       "      <td>708.0</td>\n",
       "      <td>2064.0</td>\n",
       "      <td>-2.967359</td>\n",
       "      <td>10.0</td>\n",
       "      <td>1.0</td>\n",
       "      <td>10.0</td>\n",
       "      <td>-2.967359</td>\n",
       "      <td>...</td>\n",
       "      <td>0</td>\n",
       "      <td>0</td>\n",
       "      <td>0</td>\n",
       "      <td>0</td>\n",
       "      <td>0</td>\n",
       "      <td>0</td>\n",
       "      <td>0</td>\n",
       "      <td>0</td>\n",
       "      <td>0</td>\n",
       "      <td>0</td>\n",
       "    </tr>\n",
       "    <tr>\n",
       "      <td>836404765.0</td>\n",
       "      <td>4.0</td>\n",
       "      <td>388.0</td>\n",
       "      <td>351.0</td>\n",
       "      <td>375.0</td>\n",
       "      <td>1163.0</td>\n",
       "      <td>4.419890</td>\n",
       "      <td>10.0</td>\n",
       "      <td>1.0</td>\n",
       "      <td>10.0</td>\n",
       "      <td>4.419890</td>\n",
       "      <td>...</td>\n",
       "      <td>0</td>\n",
       "      <td>0</td>\n",
       "      <td>0</td>\n",
       "      <td>0</td>\n",
       "      <td>0</td>\n",
       "      <td>0</td>\n",
       "      <td>0</td>\n",
       "      <td>0</td>\n",
       "      <td>1</td>\n",
       "      <td>0</td>\n",
       "    </tr>\n",
       "    <tr>\n",
       "      <td>823351909.0</td>\n",
       "      <td>3.0</td>\n",
       "      <td>481.0</td>\n",
       "      <td>427.0</td>\n",
       "      <td>387.0</td>\n",
       "      <td>1849.0</td>\n",
       "      <td>-6.000000</td>\n",
       "      <td>10.0</td>\n",
       "      <td>1.0</td>\n",
       "      <td>10.0</td>\n",
       "      <td>-6.000000</td>\n",
       "      <td>...</td>\n",
       "      <td>0</td>\n",
       "      <td>1</td>\n",
       "      <td>0</td>\n",
       "      <td>0</td>\n",
       "      <td>0</td>\n",
       "      <td>0</td>\n",
       "      <td>0</td>\n",
       "      <td>0</td>\n",
       "      <td>0</td>\n",
       "      <td>0</td>\n",
       "    </tr>\n",
       "    <tr>\n",
       "      <td>831244179.0</td>\n",
       "      <td>25.0</td>\n",
       "      <td>10431.0</td>\n",
       "      <td>-1.0</td>\n",
       "      <td>10458.0</td>\n",
       "      <td>12396.0</td>\n",
       "      <td>-1.529052</td>\n",
       "      <td>10.0</td>\n",
       "      <td>1.0</td>\n",
       "      <td>10.0</td>\n",
       "      <td>-1.529052</td>\n",
       "      <td>...</td>\n",
       "      <td>0</td>\n",
       "      <td>1</td>\n",
       "      <td>0</td>\n",
       "      <td>0</td>\n",
       "      <td>0</td>\n",
       "      <td>0</td>\n",
       "      <td>0</td>\n",
       "      <td>0</td>\n",
       "      <td>0</td>\n",
       "      <td>0</td>\n",
       "    </tr>\n",
       "    <tr>\n",
       "      <td>818857137.0</td>\n",
       "      <td>7.0</td>\n",
       "      <td>1456.0</td>\n",
       "      <td>-1.0</td>\n",
       "      <td>1472.0</td>\n",
       "      <td>2001.0</td>\n",
       "      <td>2.890173</td>\n",
       "      <td>10.0</td>\n",
       "      <td>1.0</td>\n",
       "      <td>10.0</td>\n",
       "      <td>2.890173</td>\n",
       "      <td>...</td>\n",
       "      <td>0</td>\n",
       "      <td>0</td>\n",
       "      <td>0</td>\n",
       "      <td>0</td>\n",
       "      <td>0</td>\n",
       "      <td>0</td>\n",
       "      <td>0</td>\n",
       "      <td>0</td>\n",
       "      <td>0</td>\n",
       "      <td>0</td>\n",
       "    </tr>\n",
       "    <tr>\n",
       "      <td>...</td>\n",
       "      <td>...</td>\n",
       "      <td>...</td>\n",
       "      <td>...</td>\n",
       "      <td>...</td>\n",
       "      <td>...</td>\n",
       "      <td>...</td>\n",
       "      <td>...</td>\n",
       "      <td>...</td>\n",
       "      <td>...</td>\n",
       "      <td>...</td>\n",
       "      <td>...</td>\n",
       "      <td>...</td>\n",
       "      <td>...</td>\n",
       "      <td>...</td>\n",
       "      <td>...</td>\n",
       "      <td>...</td>\n",
       "      <td>...</td>\n",
       "      <td>...</td>\n",
       "      <td>...</td>\n",
       "      <td>...</td>\n",
       "      <td>...</td>\n",
       "    </tr>\n",
       "    <tr>\n",
       "      <td>824841498.0</td>\n",
       "      <td>1.0</td>\n",
       "      <td>7.0</td>\n",
       "      <td>-1.0</td>\n",
       "      <td>36.0</td>\n",
       "      <td>3208.0</td>\n",
       "      <td>0.414079</td>\n",
       "      <td>10.0</td>\n",
       "      <td>1.0</td>\n",
       "      <td>10.0</td>\n",
       "      <td>0.414079</td>\n",
       "      <td>...</td>\n",
       "      <td>0</td>\n",
       "      <td>0</td>\n",
       "      <td>0</td>\n",
       "      <td>0</td>\n",
       "      <td>0</td>\n",
       "      <td>0</td>\n",
       "      <td>0</td>\n",
       "      <td>0</td>\n",
       "      <td>0</td>\n",
       "      <td>0</td>\n",
       "    </tr>\n",
       "    <tr>\n",
       "      <td>826243891.0</td>\n",
       "      <td>1.0</td>\n",
       "      <td>211.0</td>\n",
       "      <td>326.0</td>\n",
       "      <td>295.0</td>\n",
       "      <td>1067.0</td>\n",
       "      <td>0.621118</td>\n",
       "      <td>10.0</td>\n",
       "      <td>1.0</td>\n",
       "      <td>10.0</td>\n",
       "      <td>0.621118</td>\n",
       "      <td>...</td>\n",
       "      <td>0</td>\n",
       "      <td>1</td>\n",
       "      <td>0</td>\n",
       "      <td>0</td>\n",
       "      <td>0</td>\n",
       "      <td>0</td>\n",
       "      <td>0</td>\n",
       "      <td>0</td>\n",
       "      <td>0</td>\n",
       "      <td>0</td>\n",
       "    </tr>\n",
       "    <tr>\n",
       "      <td>829909698.0</td>\n",
       "      <td>1.0</td>\n",
       "      <td>156.0</td>\n",
       "      <td>-1.0</td>\n",
       "      <td>107.0</td>\n",
       "      <td>1127.0</td>\n",
       "      <td>2.793296</td>\n",
       "      <td>10.0</td>\n",
       "      <td>1.0</td>\n",
       "      <td>10.0</td>\n",
       "      <td>2.793296</td>\n",
       "      <td>...</td>\n",
       "      <td>0</td>\n",
       "      <td>1</td>\n",
       "      <td>0</td>\n",
       "      <td>0</td>\n",
       "      <td>0</td>\n",
       "      <td>0</td>\n",
       "      <td>0</td>\n",
       "      <td>0</td>\n",
       "      <td>0</td>\n",
       "      <td>0</td>\n",
       "    </tr>\n",
       "    <tr>\n",
       "      <td>827926319.0</td>\n",
       "      <td>12.0</td>\n",
       "      <td>3617.0</td>\n",
       "      <td>-1.0</td>\n",
       "      <td>3760.0</td>\n",
       "      <td>6862.0</td>\n",
       "      <td>-4.778761</td>\n",
       "      <td>10.0</td>\n",
       "      <td>1.0</td>\n",
       "      <td>10.0</td>\n",
       "      <td>-4.778761</td>\n",
       "      <td>...</td>\n",
       "      <td>0</td>\n",
       "      <td>0</td>\n",
       "      <td>0</td>\n",
       "      <td>0</td>\n",
       "      <td>0</td>\n",
       "      <td>0</td>\n",
       "      <td>0</td>\n",
       "      <td>0</td>\n",
       "      <td>0</td>\n",
       "      <td>0</td>\n",
       "    </tr>\n",
       "    <tr>\n",
       "      <td>824590496.0</td>\n",
       "      <td>9.0</td>\n",
       "      <td>1651.0</td>\n",
       "      <td>-1.0</td>\n",
       "      <td>1690.0</td>\n",
       "      <td>3942.0</td>\n",
       "      <td>-1.369863</td>\n",
       "      <td>10.0</td>\n",
       "      <td>1.0</td>\n",
       "      <td>10.0</td>\n",
       "      <td>-1.369863</td>\n",
       "      <td>...</td>\n",
       "      <td>0</td>\n",
       "      <td>0</td>\n",
       "      <td>0</td>\n",
       "      <td>0</td>\n",
       "      <td>0</td>\n",
       "      <td>0</td>\n",
       "      <td>0</td>\n",
       "      <td>0</td>\n",
       "      <td>0</td>\n",
       "      <td>0</td>\n",
       "    </tr>\n",
       "  </tbody>\n",
       "</table>\n",
       "<p>6442 rows × 152 columns</p>\n",
       "</div>"
      ],
      "text/plain": [
       "               SentenceID  Actor1CharOffset  Actor2CharOffset  \\\n",
       "GlobalEventID                                                   \n",
       "818321985.0           1.0             741.0              -1.0   \n",
       "836404765.0           4.0             388.0             351.0   \n",
       "823351909.0           3.0             481.0             427.0   \n",
       "831244179.0          25.0           10431.0              -1.0   \n",
       "818857137.0           7.0            1456.0              -1.0   \n",
       "...                   ...               ...               ...   \n",
       "824841498.0           1.0               7.0              -1.0   \n",
       "826243891.0           1.0             211.0             326.0   \n",
       "829909698.0           1.0             156.0              -1.0   \n",
       "827926319.0          12.0            3617.0              -1.0   \n",
       "824590496.0           9.0            1651.0              -1.0   \n",
       "\n",
       "               ActionCharOffset  MentionDocLen  MentionDocTone  NumMentions  \\\n",
       "GlobalEventID                                                                 \n",
       "818321985.0               708.0         2064.0       -2.967359         10.0   \n",
       "836404765.0               375.0         1163.0        4.419890         10.0   \n",
       "823351909.0               387.0         1849.0       -6.000000         10.0   \n",
       "831244179.0             10458.0        12396.0       -1.529052         10.0   \n",
       "818857137.0              1472.0         2001.0        2.890173         10.0   \n",
       "...                         ...            ...             ...          ...   \n",
       "824841498.0                36.0         3208.0        0.414079         10.0   \n",
       "826243891.0               295.0         1067.0        0.621118         10.0   \n",
       "829909698.0               107.0         1127.0        2.793296         10.0   \n",
       "827926319.0              3760.0         6862.0       -4.778761         10.0   \n",
       "824590496.0              1690.0         3942.0       -1.369863         10.0   \n",
       "\n",
       "               NumSources  NumArticles   AvgTone  ...  Actor1_cc_Oceania  \\\n",
       "GlobalEventID                                     ...                      \n",
       "818321985.0           1.0         10.0 -2.967359  ...                  0   \n",
       "836404765.0           1.0         10.0  4.419890  ...                  0   \n",
       "823351909.0           1.0         10.0 -6.000000  ...                  0   \n",
       "831244179.0           1.0         10.0 -1.529052  ...                  0   \n",
       "818857137.0           1.0         10.0  2.890173  ...                  0   \n",
       "...                   ...          ...       ...  ...                ...   \n",
       "824841498.0           1.0         10.0  0.414079  ...                  0   \n",
       "826243891.0           1.0         10.0  0.621118  ...                  0   \n",
       "829909698.0           1.0         10.0  2.793296  ...                  0   \n",
       "827926319.0           1.0         10.0 -4.778761  ...                  0   \n",
       "824590496.0           1.0         10.0 -1.369863  ...                  0   \n",
       "\n",
       "               Actor1_cc_Philippines  Actor1_cc_South America  \\\n",
       "GlobalEventID                                                   \n",
       "818321985.0                        0                        0   \n",
       "836404765.0                        0                        0   \n",
       "823351909.0                        1                        0   \n",
       "831244179.0                        1                        0   \n",
       "818857137.0                        0                        0   \n",
       "...                              ...                      ...   \n",
       "824841498.0                        0                        0   \n",
       "826243891.0                        1                        0   \n",
       "829909698.0                        1                        0   \n",
       "827926319.0                        0                        0   \n",
       "824590496.0                        0                        0   \n",
       "\n",
       "               Actor2_cc_Africa  Actor2_cc_Asia  Actor2_cc_Europe  \\\n",
       "GlobalEventID                                                       \n",
       "818321985.0                   0               0                 0   \n",
       "836404765.0                   0               0                 0   \n",
       "823351909.0                   0               0                 0   \n",
       "831244179.0                   0               0                 0   \n",
       "818857137.0                   0               0                 0   \n",
       "...                         ...             ...               ...   \n",
       "824841498.0                   0               0                 0   \n",
       "826243891.0                   0               0                 0   \n",
       "829909698.0                   0               0                 0   \n",
       "827926319.0                   0               0                 0   \n",
       "824590496.0                   0               0                 0   \n",
       "\n",
       "               Actor2_cc_North America  Actor2_cc_Oceania  \\\n",
       "GlobalEventID                                               \n",
       "818321985.0                          0                  0   \n",
       "836404765.0                          0                  0   \n",
       "823351909.0                          0                  0   \n",
       "831244179.0                          0                  0   \n",
       "818857137.0                          0                  0   \n",
       "...                                ...                ...   \n",
       "824841498.0                          0                  0   \n",
       "826243891.0                          0                  0   \n",
       "829909698.0                          0                  0   \n",
       "827926319.0                          0                  0   \n",
       "824590496.0                          0                  0   \n",
       "\n",
       "               Actor2_cc_Philippines  Actor2_cc_South America  \n",
       "GlobalEventID                                                  \n",
       "818321985.0                        0                        0  \n",
       "836404765.0                        1                        0  \n",
       "823351909.0                        0                        0  \n",
       "831244179.0                        0                        0  \n",
       "818857137.0                        0                        0  \n",
       "...                              ...                      ...  \n",
       "824841498.0                        0                        0  \n",
       "826243891.0                        0                        0  \n",
       "829909698.0                        0                        0  \n",
       "827926319.0                        0                        0  \n",
       "824590496.0                        0                        0  \n",
       "\n",
       "[6442 rows x 152 columns]"
      ]
     },
     "execution_count": 370,
     "metadata": {},
     "output_type": "execute_result"
    }
   ],
   "source": [
    "X_test[y_test==0]"
   ]
  },
  {
   "cell_type": "markdown",
   "metadata": {},
   "source": [
    "### GBM Gridsearch"
   ]
  },
  {
   "cell_type": "code",
   "execution_count": 392,
   "metadata": {
    "scrolled": true
   },
   "outputs": [
    {
     "name": "stdout",
     "output_type": "stream",
     "text": [
      "Training ('Gradient Boosting Classifier', GradientBoostingRegressor(alpha=0.9, criterion='friedman_mse', init=None,\n",
      "                          learning_rate=0.1, loss='ls', max_depth=3,\n",
      "                          max_features=None, max_leaf_nodes=None,\n",
      "                          min_impurity_decrease=0.0, min_impurity_split=None,\n",
      "                          min_samples_leaf=1, min_samples_split=2,\n",
      "                          min_weight_fraction_leaf=0.0, n_estimators=100,\n",
      "                          n_iter_no_change=None, presort='auto',\n",
      "                          random_state=None, subsample=1.0, tol=0.0001,\n",
      "                          validation_fraction=0.1, verbose=0, warm_start=False), {'max_depth': range(3, 10), 'learning_rate': array([0.01      , 0.17782794, 3.16227766]), 'n_estimators': [150, 250, 350], 'max_features': [0.5, 0.3, 0.2]})\n",
      "\n"
     ]
    },
    {
     "name": "stderr",
     "output_type": "stream",
     "text": [
      "/home/jbuno/.local/lib/python3.7/site-packages/sklearn/model_selection/_search.py:764: RuntimeWarning: overflow encountered in square\n",
      "  array_means[:, np.newaxis]) ** 2,\n"
     ]
    }
   ],
   "source": [
    "clf10 = GradientBoostingRegressor()\n",
    "learning_rate_list = np.logspace(-2, 0.5, num=3) #GBC\n",
    "max_depth_list = range(3, 10) #DT\n",
    "n_estimators_list = [150, 250, 350] #RF\n",
    "max_features_list =  [.5, .3, .2] #RF\n",
    "# learning_rate_list = np.logspace(-2, 0.5, num=10) #GBC\n",
    "\n",
    "estimators =[('Gradient Boosting Classifier', clf10, {'max_depth':max_depth_list, 'learning_rate':learning_rate_list, 'n_estimators':n_estimators_list,\n",
    "                                                    'max_features':max_features_list})]\n",
    "\n",
    "models_imbalanced = {}\n",
    "for est in estimators:\n",
    "    print(f'Training {est}\\n')\n",
    "    gs_cv = GridSearchCV(est[1], param_grid=est[2], n_jobs=-1)\n",
    "    models_imbalanced[est[0]] = gs_cv.fit(X_train, y_train)\n",
    "    \n",
    "\n",
    "    cols = ['Machine Learning Method', 'Test Accuracy', 'Best Parameter',\n",
    "        'Top Predictor Variable']\n",
    "\n",
    "df_imbalanced = pd.DataFrame(columns=cols)\n",
    "\n",
    "for i, m in enumerate(models_imbalanced):\n",
    "    \n",
    "    try:\n",
    "        try:\n",
    "            top_predictor = sorted(list(zip(X.columns, np.abs(models_imbalanced[m].best_estimator_.feature_importances_))), key=lambda x: x[1], reverse=True)\n",
    "        except:\n",
    "            top_predictor = sorted(list(zip(X.columns, np.abs(models_imbalanced[m].best_estimator_.coef_[0]))), key=lambda x: x[1], reverse=True)\n",
    "\n",
    "    except:\n",
    "        top_predictor = np.nan    \n",
    "    \n",
    "    df_imbalanced.loc[i] = [m, \n",
    "                 models_imbalanced[m].best_estimator_.score(X_test, y_test),\n",
    "                 models_imbalanced[m].best_params_ ,\n",
    "                 top_predictor]"
   ]
  },
  {
   "cell_type": "code",
   "execution_count": 373,
   "metadata": {},
   "outputs": [
    {
     "data": {
      "text/html": [
       "<div>\n",
       "<style scoped>\n",
       "    .dataframe tbody tr th:only-of-type {\n",
       "        vertical-align: middle;\n",
       "    }\n",
       "\n",
       "    .dataframe tbody tr th {\n",
       "        vertical-align: top;\n",
       "    }\n",
       "\n",
       "    .dataframe thead th {\n",
       "        text-align: right;\n",
       "    }\n",
       "</style>\n",
       "<table border=\"1\" class=\"dataframe\">\n",
       "  <thead>\n",
       "    <tr style=\"text-align: right;\">\n",
       "      <th></th>\n",
       "      <th>Test Accuracy</th>\n",
       "      <th>Train Accuracy</th>\n",
       "      <th>Best Parameters</th>\n",
       "      <th>Run Time</th>\n",
       "      <th>0</th>\n",
       "      <th>1</th>\n",
       "      <th>2</th>\n",
       "    </tr>\n",
       "  </thead>\n",
       "  <tbody>\n",
       "    <tr>\n",
       "      <td>KNN</td>\n",
       "      <td>4.804588e-01</td>\n",
       "      <td>0.605240</td>\n",
       "      <td>{'n_neighbors': 7}</td>\n",
       "      <td>759.036485</td>\n",
       "      <td>[nan]</td>\n",
       "      <td>[nan]</td>\n",
       "      <td>[nan]</td>\n",
       "    </tr>\n",
       "    <tr>\n",
       "      <td>Linear Regression</td>\n",
       "      <td>-4.028656e+10</td>\n",
       "      <td>0.293505</td>\n",
       "      <td>{}</td>\n",
       "      <td>2.419457</td>\n",
       "      <td>(MentionDocTone, 125539178183705.66)</td>\n",
       "      <td>(QuadClass_4, -130680061878684.56)</td>\n",
       "      <td>(QuadClass_1, -168142130033265.06)</td>\n",
       "    </tr>\n",
       "    <tr>\n",
       "      <td>Linear SVM</td>\n",
       "      <td>-2.145293e-02</td>\n",
       "      <td>-0.030540</td>\n",
       "      <td>{'tol': 3.593813663804626}</td>\n",
       "      <td>3.538239</td>\n",
       "      <td>(SentenceID, 131.917310082157)</td>\n",
       "      <td>(mention_source, -175.77642637834603)</td>\n",
       "      <td>(NumSources, 192.2203646440512)</td>\n",
       "    </tr>\n",
       "    <tr>\n",
       "      <td>Decision Tree</td>\n",
       "      <td>6.140247e-01</td>\n",
       "      <td>0.693964</td>\n",
       "      <td>{'max_depth': 9}</td>\n",
       "      <td>8.530289</td>\n",
       "      <td>(SentenceID, 0.06152771297783498)</td>\n",
       "      <td>(MentionDocLen, 0.06217580691685398)</td>\n",
       "      <td>(tone_diff, 0.6474390502703469)</td>\n",
       "    </tr>\n",
       "    <tr>\n",
       "      <td>Random Forest</td>\n",
       "      <td>6.941800e-01</td>\n",
       "      <td>0.847868</td>\n",
       "      <td>{'max_depth': 14}</td>\n",
       "      <td>31.626616</td>\n",
       "      <td>(SentenceID, 0.06152771297783498)</td>\n",
       "      <td>(MentionDocLen, 0.06217580691685398)</td>\n",
       "      <td>(tone_diff, 0.6474390502703469)</td>\n",
       "    </tr>\n",
       "    <tr>\n",
       "      <td>Gradient Boost</td>\n",
       "      <td>7.203185e-01</td>\n",
       "      <td>0.915262</td>\n",
       "      <td>{'max_depth': 10}</td>\n",
       "      <td>1222.748003</td>\n",
       "      <td>(SentenceID, 0.06152771297783498)</td>\n",
       "      <td>(MentionDocLen, 0.06217580691685398)</td>\n",
       "      <td>(tone_diff, 0.6474390502703469)</td>\n",
       "    </tr>\n",
       "  </tbody>\n",
       "</table>\n",
       "</div>"
      ],
      "text/plain": [
       "                   Test Accuracy  Train Accuracy             Best Parameters  \\\n",
       "KNN                 4.804588e-01        0.605240          {'n_neighbors': 7}   \n",
       "Linear Regression  -4.028656e+10        0.293505                          {}   \n",
       "Linear SVM         -2.145293e-02       -0.030540  {'tol': 3.593813663804626}   \n",
       "Decision Tree       6.140247e-01        0.693964            {'max_depth': 9}   \n",
       "Random Forest       6.941800e-01        0.847868           {'max_depth': 14}   \n",
       "Gradient Boost      7.203185e-01        0.915262           {'max_depth': 10}   \n",
       "\n",
       "                      Run Time                                     0  \\\n",
       "KNN                 759.036485                                 [nan]   \n",
       "Linear Regression     2.419457  (MentionDocTone, 125539178183705.66)   \n",
       "Linear SVM            3.538239        (SentenceID, 131.917310082157)   \n",
       "Decision Tree         8.530289     (SentenceID, 0.06152771297783498)   \n",
       "Random Forest        31.626616     (SentenceID, 0.06152771297783498)   \n",
       "Gradient Boost     1222.748003     (SentenceID, 0.06152771297783498)   \n",
       "\n",
       "                                                       1  \\\n",
       "KNN                                                [nan]   \n",
       "Linear Regression     (QuadClass_4, -130680061878684.56)   \n",
       "Linear SVM         (mention_source, -175.77642637834603)   \n",
       "Decision Tree       (MentionDocLen, 0.06217580691685398)   \n",
       "Random Forest       (MentionDocLen, 0.06217580691685398)   \n",
       "Gradient Boost      (MentionDocLen, 0.06217580691685398)   \n",
       "\n",
       "                                                    2  \n",
       "KNN                                             [nan]  \n",
       "Linear Regression  (QuadClass_1, -168142130033265.06)  \n",
       "Linear SVM            (NumSources, 192.2203646440512)  \n",
       "Decision Tree         (tone_diff, 0.6474390502703469)  \n",
       "Random Forest         (tone_diff, 0.6474390502703469)  \n",
       "Gradient Boost        (tone_diff, 0.6474390502703469)  "
      ]
     },
     "execution_count": 373,
     "metadata": {},
     "output_type": "execute_result"
    }
   ],
   "source": [
    "model1_mm"
   ]
  },
  {
   "cell_type": "code",
   "execution_count": 374,
   "metadata": {},
   "outputs": [],
   "source": [
    "model_best = GradientBoostingRegressor(max_depth=10).fit(X_train, y_train)"
   ]
  },
  {
   "cell_type": "code",
   "execution_count": 396,
   "metadata": {
    "scrolled": true
   },
   "outputs": [
    {
     "data": {
      "text/plain": [
       "{'learning_rate': 0.01,\n",
       " 'max_depth': 9,\n",
       " 'max_features': 0.5,\n",
       " 'n_estimators': 350}"
      ]
     },
     "execution_count": 396,
     "metadata": {},
     "output_type": "execute_result"
    }
   ],
   "source": [
    "df_imbalanced.iloc[0,2]"
   ]
  },
  {
   "cell_type": "code",
   "execution_count": 11,
   "metadata": {
    "ExecuteTime": {
     "end_time": "2019-12-19T17:07:54.606588Z",
     "start_time": "2019-12-19T15:34:34.304615Z"
    },
    "scrolled": false
   },
   "outputs": [
    {
     "data": {
      "image/png": "[encoded data removed]",
      "text/plain": [
       "<Figure size 576x684 with 2 Axes>"
      ]
     },
     "metadata": {
      "needs_background": "light"
     },
     "output_type": "display_data"
    }
   ],
   "source": [
    "X_train, X_test, y_train, y_test = train_test_split(X, y, random_state=42)\n",
    "\n",
    "explainer = shap.TreeExplainer(GradientBoostingRegressor(learning_rate=0.01, max_depth=9,\n",
    "                 max_features=0.5, n_estimators=350).fit(X_train, y_train))\n",
    "shap_values = explainer.shap_values(X_train)\n",
    "shap.summary_plot(shap_values, X_train)"
   ]
  },
  {
   "cell_type": "code",
   "execution_count": null,
   "metadata": {},
   "outputs": [],
   "source": []
  }
 ],
 "metadata": {
  "kernelspec": {
   "display_name": "Python 3",
   "language": "python",
   "name": "python3"
  },
  "language_info": {
   "codemirror_mode": {
    "name": "ipython",
    "version": 3
   },
   "file_extension": ".py",
   "mimetype": "text/x-python",
   "name": "python",
   "nbconvert_exporter": "python",
   "pygments_lexer": "ipython3",
   "version": "3.7.5"
  },
  "toc": {
   "base_numbering": 1,
   "nav_menu": {},
   "number_sections": false,
   "sideBar": true,
   "skip_h1_title": false,
   "title_cell": "Table of Contents",
   "title_sidebar": "Contents",
   "toc_cell": false,
   "toc_position": {
    "height": "calc(100% - 180px)",
    "left": "10px",
    "top": "150px",
    "width": "165px"
   },
   "toc_section_display": true,
   "toc_window_display": true
  },
  "varInspector": {
   "cols": {
    "lenName": 16,
    "lenType": 16,
    "lenVar": 40
   },
   "kernels_config": {
    "python": {
     "delete_cmd_postfix": "",
     "delete_cmd_prefix": "del ",
     "library": "var_list.py",
     "varRefreshCmd": "print(var_dic_list())"
    },
    "r": {
     "delete_cmd_postfix": ") ",
     "delete_cmd_prefix": "rm(",
     "library": "var_list.r",
     "varRefreshCmd": "cat(var_dic_list()) "
    }
   },
   "types_to_exclude": [
    "module",
    "function",
    "builtin_function_or_method",
    "instance",
    "_Feature"
   ],
   "window_display": false
  }
 },
 "nbformat": 4,
 "nbformat_minor": 2
}
