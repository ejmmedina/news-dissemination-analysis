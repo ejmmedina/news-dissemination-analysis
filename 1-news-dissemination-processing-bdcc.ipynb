{
 "cells": [
  {
   "cell_type": "code",
   "execution_count": 5,
   "metadata": {},
   "outputs": [
    {
     "data": {
      "application/vnd.jupyter.widget-view+json": {
       "model_id": "244ebcec075e4c4681d7bd0f300e9544",
       "version_major": 2,
       "version_minor": 0
      },
      "text/plain": [
       "VBox()"
      ]
     },
     "metadata": {},
     "output_type": "display_data"
    },
    {
     "data": {
      "application/vnd.jupyter.widget-view+json": {
       "model_id": "",
       "version_major": 2,
       "version_minor": 0
      },
      "text/plain": [
       "FloatProgress(value=0.0, bar_style='info', description='Progress:', layout=Layout(height='25px', width='50%'),…"
      ]
     },
     "metadata": {},
     "output_type": "display_data"
    },
    {
     "name": "stdout",
     "output_type": "stream",
     "text": [
      "<pyspark.sql.session.SparkSession object at 0x7f6c2babea58>"
     ]
    }
   ],
   "source": [
    "spark"
   ]
  },
  {
   "cell_type": "code",
   "execution_count": 6,
   "metadata": {},
   "outputs": [
    {
     "data": {
      "application/vnd.jupyter.widget-view+json": {
       "model_id": "cb401332de66453aaa8de5a587997dde",
       "version_major": 2,
       "version_minor": 0
      },
      "text/plain": [
       "VBox()"
      ]
     },
     "metadata": {},
     "output_type": "display_data"
    },
    {
     "data": {
      "application/vnd.jupyter.widget-view+json": {
       "model_id": "",
       "version_major": 2,
       "version_minor": 0
      },
      "text/plain": [
       "FloatProgress(value=0.0, bar_style='info', description='Progress:', layout=Layout(height='25px', width='50%'),…"
      ]
     },
     "metadata": {},
     "output_type": "display_data"
    },
    {
     "name": "stdout",
     "output_type": "stream",
     "text": [
      "<SparkContext master=yarn appName=livy-session-3>"
     ]
    }
   ],
   "source": [
    "sc"
   ]
  },
  {
   "cell_type": "code",
   "execution_count": 13,
   "metadata": {},
   "outputs": [
    {
     "data": {
      "application/vnd.jupyter.widget-view+json": {
       "model_id": "28276d7bcba04398a32962e52c4eec71",
       "version_major": 2,
       "version_minor": 0
      },
      "text/plain": [
       "VBox()"
      ]
     },
     "metadata": {},
     "output_type": "display_data"
    },
    {
     "data": {
      "application/vnd.jupyter.widget-view+json": {
       "model_id": "",
       "version_major": 2,
       "version_minor": 0
      },
      "text/plain": [
       "FloatProgress(value=0.0, bar_style='info', description='Progress:', layout=Layout(height='25px', width='50%'),…"
      ]
     },
     "metadata": {},
     "output_type": "display_data"
    },
    {
     "name": "stdout",
     "output_type": "stream",
     "text": [
      "Collecting s3fs\n",
      "  Using cached https://files.pythonhosted.org/packages/72/5c/ec84c7ec49fde2c3b0d885ecae4504fa40fc77fef7684e9f2939c50f9b94/s3fs-0.4.0-py3-none-any.whl\n",
      "Collecting boto3>=1.9.91\n",
      "  Using cached https://files.pythonhosted.org/packages/39/8b/250778bc5fd4b9a91d7916f8729b346931be419052130548617139247ba6/boto3-1.10.41-py2.py3-none-any.whl\n",
      "Collecting botocore>=1.12.91\n",
      "  Using cached https://files.pythonhosted.org/packages/49/e0/a9a53656126a635120c0f7eaee3ff3b26a4a08596d10e7192fd91ce19e5c/botocore-1.13.41-py2.py3-none-any.whl\n",
      "Collecting fsspec>=0.6.0\n",
      "  Using cached https://files.pythonhosted.org/packages/dd/1f/7028dacd3c28f34ce48130aae73a88fa5cc27b6b0e494fcf2739f7954d9d/fsspec-0.6.2-py3-none-any.whl\n",
      "Requirement already satisfied: jmespath<1.0.0,>=0.7.1 in /usr/local/lib/python3.6/site-packages (from boto3>=1.9.91->s3fs) (0.9.4)\n",
      "Collecting s3transfer<0.3.0,>=0.2.0\n",
      "  Using cached https://files.pythonhosted.org/packages/16/8a/1fc3dba0c4923c2a76e1ff0d52b305c44606da63f718d14d3231e21c51b0/s3transfer-0.2.1-py2.py3-none-any.whl\n",
      "Collecting docutils<0.16,>=0.10\n",
      "  Using cached https://files.pythonhosted.org/packages/22/cd/a6aa959dca619918ccb55023b4cb151949c64d4d5d55b3f4ffd7eee0c6e8/docutils-0.15.2-py3-none-any.whl\n",
      "Collecting python-dateutil<2.8.1,>=2.1; python_version >= \"2.7\"\n",
      "  Using cached https://files.pythonhosted.org/packages/41/17/c62faccbfbd163c7f57f3844689e3a78bae1f403648a6afb1d0866d87fbb/python_dateutil-2.8.0-py2.py3-none-any.whl\n",
      "Collecting urllib3<1.26,>=1.20; python_version >= \"3.4\"\n",
      "  Using cached https://files.pythonhosted.org/packages/b4/40/a9837291310ee1ccc242ceb6ebfd9eb21539649f193a7c8c86ba15b98539/urllib3-1.25.7-py2.py3-none-any.whl\n",
      "Requirement already satisfied: six>=1.5 in /usr/local/lib/python3.6/site-packages (from python-dateutil<2.8.1,>=2.1; python_version >= \"2.7\"->botocore>=1.12.91->s3fs) (1.12.0)\n",
      "Installing collected packages: docutils, python-dateutil, urllib3, botocore, s3transfer, boto3, fsspec, s3fs\n",
      "  Found existing installation: python-dateutil 2.8.1\n",
      "    Uninstalling python-dateutil-2.8.1:\n",
      "      Successfully uninstalled python-dateutil-2.8.1\n",
      "Successfully installed boto3-1.10.41 botocore-1.13.41 docutils-0.15.2 fsspec-0.6.2 python-dateutil-2.8.0 s3fs-0.4.0 s3transfer-0.2.1 urllib3-1.25.7"
     ]
    }
   ],
   "source": [
    "sc.install_pypi_package('s3fs')"
   ]
  },
  {
   "cell_type": "markdown",
   "metadata": {},
   "source": [
    "## Reading mentions database"
   ]
  },
  {
   "cell_type": "code",
   "execution_count": null,
   "metadata": {},
   "outputs": [],
   "source": [
    "df_mention = spark.read.parquet('s3://bdcc-lab/mention.parquet')"
   ]
  },
  {
   "cell_type": "code",
   "execution_count": null,
   "metadata": {},
   "outputs": [],
   "source": [
    "df_mention = df_mention.drop(*['EventTimeDate', 'MentionSourceName', 'MentionIdentifier', 'InRawText', 'Confidence', 'MentionDocTranslationInfo', 'Extras'])"
   ]
  },
  {
   "cell_type": "markdown",
   "metadata": {},
   "source": [
    "## Reading events database"
   ]
  },
  {
   "cell_type": "code",
   "execution_count": null,
   "metadata": {
    "jupyter": {
     "source_hidden": true
    }
   },
   "outputs": [],
   "source": [
    "events = spark.read.csv('s3://gdelt-open-data/v2/events/2019*.csv',\n",
    "                     sep='\\t',\n",
    "                     header=None)"
   ]
  },
  {
   "cell_type": "code",
   "execution_count": null,
   "metadata": {},
   "outputs": [],
   "source": [
    "cols_events= ['GlobalEventID',\n",
    "             'Day',\n",
    "             'MonthYear',\n",
    "             'Year',\n",
    "             'FractionDate', \n",
    "             'Actor1Code',\n",
    "             'Actor1Name',\n",
    "             'Actor1CountryCode',\n",
    "             'Actor1KnownGroupCode',\n",
    "             'Actor1EthnicCode',\n",
    "             'Actor1Religion1Code',\n",
    "             'Actor1Religion2Code',\n",
    "             'Actor1type1Code',\n",
    "             'Actor1type2Code',\n",
    "             'Actor1type3Code',\n",
    "             'Actor2Code',\n",
    "             'Actor2Name',\n",
    "             'Actor2CountryCode',\n",
    "             'Actor2KnownGroupCode',\n",
    "             'Actor2EthnicCode',\n",
    "             'Actor2Religion1Code',\n",
    "             'Actor2Religion2Code',\n",
    "             'Actor2type1Code',\n",
    "             'Actor2type2Code',\n",
    "             'Actor2type3Code',\n",
    "             'IsRootEvent',\n",
    "              'EventCode',\n",
    "              'EventBaseCode',\n",
    "              'EventRootCode',\n",
    "              'QuadClass',\n",
    "              'GoldsteinScale',\n",
    "              'NumMentions',\n",
    "              'NumSources',\n",
    "              'NumArticles',\n",
    "              'AvgTone',\n",
    "              'Actor1Geo_Type',\n",
    "              'Actor1Geo_Fullname',\n",
    "              'Actor1Geo_CountryCode',\n",
    "              'Actor1Geo_ADM1Code',\n",
    "              'Actor1Geo_ADM2Code',\n",
    "              'Actor1Geo_Lat',\n",
    "              'Actor1Geo_Long',\n",
    "              'Actor1Geo_FeatureID',\n",
    "              'Actor2Geo_Type',\n",
    "              'Actor2Geo_Fullname',\n",
    "              'Actor2Geo_CountryCode',\n",
    "              'Actor2Geo_ADM1Code',\n",
    "              'Actor2Geo_ADM2Code',\n",
    "              'Actor2Geo_Lat',\n",
    "              'Actor2Geo_Long',\n",
    "              'Actor2Geo_FeatureID',\n",
    "              'ActionGeo_Type',\n",
    "              'ActionGeo_Fullname',\n",
    "              'ActionGeo_CountryCode',\n",
    "              'ActionGeo_ADM1Code',\n",
    "              'ActionGeo_ADM2Code',\n",
    "              'ActionGeo_Lat',\n",
    "              'ActionGeo_Long',\n",
    "              'ActionGeo_FeatureID',\n",
    "              'DATEADDED',\n",
    "              'SOURCEURL'\n",
    "             ]\n",
    "\n",
    "for i, col_names in enumerate(cols_events):\n",
    "    events = events.withColumnRenamed('_c'+str(i), col_names)"
   ]
  },
  {
   "cell_type": "code",
   "execution_count": null,
   "metadata": {},
   "outputs": [],
   "source": [
    "events.write.parquet('s3://bdcc-lab/all_events.parquet')"
   ]
  },
  {
   "cell_type": "code",
   "execution_count": null,
   "metadata": {},
   "outputs": [],
   "source": [
    "events.createOrReplaceTempView('events')"
   ]
  },
  {
   "cell_type": "markdown",
   "metadata": {},
   "source": [
    "### Filtering to Philippines only"
   ]
  },
  {
   "cell_type": "code",
   "execution_count": null,
   "metadata": {},
   "outputs": [],
   "source": [
    "phil_events = spark.sql('''select * from events \n",
    "            where Actor1CountryCode == \"RP\" or Actor1Geo_CountryCode == \"RP\" or Actor2CountryCode == \"RP\" or \n",
    "            Actor2Geo_CountryCode == \"RP\" or ActionGeo_CountryCode == \"RP\"\n",
    "            ''')"
   ]
  },
  {
   "cell_type": "code",
   "execution_count": 10,
   "metadata": {},
   "outputs": [
    {
     "data": {
      "application/vnd.jupyter.widget-view+json": {
       "model_id": "4bc24f542c5244bbb39934b229545c7a",
       "version_major": 2,
       "version_minor": 0
      },
      "text/plain": [
       "VBox()"
      ]
     },
     "metadata": {},
     "output_type": "display_data"
    },
    {
     "data": {
      "application/vnd.jupyter.widget-view+json": {
       "model_id": "",
       "version_major": 2,
       "version_minor": 0
      },
      "text/plain": [
       "FloatProgress(value=0.0, bar_style='info', description='Progress:', layout=Layout(height='25px', width='50%'),…"
      ]
     },
     "metadata": {},
     "output_type": "display_data"
    }
   ],
   "source": [
    "phil_events = phil_events.withColumn('mention_source', phil_events['NumMentions']/phil_events['NumSources'])"
   ]
  },
  {
   "cell_type": "code",
   "execution_count": 12,
   "metadata": {},
   "outputs": [
    {
     "data": {
      "application/vnd.jupyter.widget-view+json": {
       "model_id": "3de14ecdc88f435ba43285809a0b0d8d",
       "version_major": 2,
       "version_minor": 0
      },
      "text/plain": [
       "VBox()"
      ]
     },
     "metadata": {},
     "output_type": "display_data"
    },
    {
     "data": {
      "application/vnd.jupyter.widget-view+json": {
       "model_id": "",
       "version_major": 2,
       "version_minor": 0
      },
      "text/plain": [
       "FloatProgress(value=0.0, bar_style='info', description='Progress:', layout=Layout(height='25px', width='50%'),…"
      ]
     },
     "metadata": {},
     "output_type": "display_data"
    }
   ],
   "source": [
    "phil_events = phil_events.withColumn('mention_article', phil_events['NumMentions']/phil_events['NumArticles'])"
   ]
  },
  {
   "cell_type": "code",
   "execution_count": null,
   "metadata": {},
   "outputs": [],
   "source": [
    "phil_events.write.parquet('s3://bdcc-lab/phil_events_final.parquet')"
   ]
  },
  {
   "cell_type": "code",
   "execution_count": 5,
   "metadata": {},
   "outputs": [
    {
     "data": {
      "application/vnd.jupyter.widget-view+json": {
       "model_id": "460c858b2f414b34b7641d4d5abb890f",
       "version_major": 2,
       "version_minor": 0
      },
      "text/plain": [
       "VBox()"
      ]
     },
     "metadata": {},
     "output_type": "display_data"
    },
    {
     "data": {
      "application/vnd.jupyter.widget-view+json": {
       "model_id": "",
       "version_major": 2,
       "version_minor": 0
      },
      "text/plain": [
       "FloatProgress(value=0.0, bar_style='info', description='Progress:', layout=Layout(height='25px', width='50%'),…"
      ]
     },
     "metadata": {},
     "output_type": "display_data"
    }
   ],
   "source": [
    "phil_events = phil_events[[\n",
    "    'GlobalEventID',\n",
    "         'Day',\n",
    "         'Actor1Code',\n",
    "         'Actor1CountryCode',\n",
    "         'Actor1KnownGroupCode',\n",
    "         'Actor1EthnicCode',\n",
    "         'Actor1Religion1Code',\n",
    "         'Actor1Religion2Code',\n",
    "         'Actor1type1Code',\n",
    "         'Actor1type2Code',\n",
    "         'Actor1type3Code',\n",
    "         'Actor2Code',\n",
    "         'Actor2CountryCode',\n",
    "         'Actor2KnownGroupCode',\n",
    "         'Actor2EthnicCode',\n",
    "         'Actor2Religion1Code',\n",
    "         'Actor2Religion2Code',\n",
    "         'Actor2type1Code',\n",
    "         'Actor2type2Code',\n",
    "         'Actor2type3Code',\n",
    "         'IsRootEvent',\n",
    "          'EventCode', \n",
    "        'EventBaseCode',\n",
    "        'EventRootCode',\n",
    "         'QuadClass',\n",
    "         'NumMentions',\n",
    "         'NumSources',\n",
    "         'NumArticles',\n",
    "        'AvgTone'\n",
    "]]"
   ]
  },
  {
   "cell_type": "code",
   "execution_count": null,
   "metadata": {},
   "outputs": [],
   "source": [
    "phil_events.write.parquet('s3://bdcc-lab/phil_events_final.parquet')"
   ]
  },
  {
   "cell_type": "markdown",
   "metadata": {},
   "source": [
    "## Reading mentions parquet dataset"
   ]
  },
  {
   "cell_type": "code",
   "execution_count": 3,
   "metadata": {},
   "outputs": [
    {
     "data": {
      "application/vnd.jupyter.widget-view+json": {
       "model_id": "d024fbe0f2354ad287ea656a636c6ce4",
       "version_major": 2,
       "version_minor": 0
      },
      "text/plain": [
       "VBox()"
      ]
     },
     "metadata": {},
     "output_type": "display_data"
    },
    {
     "data": {
      "application/vnd.jupyter.widget-view+json": {
       "model_id": "",
       "version_major": 2,
       "version_minor": 0
      },
      "text/plain": [
       "FloatProgress(value=0.0, bar_style='info', description='Progress:', layout=Layout(height='25px', width='50%'),…"
      ]
     },
     "metadata": {},
     "output_type": "display_data"
    }
   ],
   "source": [
    "df_mention = spark.read.parquet('s3://bdcc-lab/mention.parquet')"
   ]
  },
  {
   "cell_type": "code",
   "execution_count": 4,
   "metadata": {},
   "outputs": [
    {
     "data": {
      "application/vnd.jupyter.widget-view+json": {
       "model_id": "efe681ba6b6d44bfa299aa43c3ad2b4b",
       "version_major": 2,
       "version_minor": 0
      },
      "text/plain": [
       "VBox()"
      ]
     },
     "metadata": {},
     "output_type": "display_data"
    },
    {
     "data": {
      "application/vnd.jupyter.widget-view+json": {
       "model_id": "",
       "version_major": 2,
       "version_minor": 0
      },
      "text/plain": [
       "FloatProgress(value=0.0, bar_style='info', description='Progress:', layout=Layout(height='25px', width='50%'),…"
      ]
     },
     "metadata": {},
     "output_type": "display_data"
    }
   ],
   "source": [
    "df_mention = df_mention.drop(*['EventTimeDate', 'MentionSourceName', 'MentionIdentifier', 'InRawText', 'Confidence', 'MentionDocTranslationInfo', 'Extras'])"
   ]
  },
  {
   "cell_type": "markdown",
   "metadata": {},
   "source": [
    "## Reading philippine events parquet dataset"
   ]
  },
  {
   "cell_type": "code",
   "execution_count": 5,
   "metadata": {},
   "outputs": [
    {
     "data": {
      "application/vnd.jupyter.widget-view+json": {
       "model_id": "6307b424af8f4a8f98593170cf1420d5",
       "version_major": 2,
       "version_minor": 0
      },
      "text/plain": [
       "VBox()"
      ]
     },
     "metadata": {},
     "output_type": "display_data"
    },
    {
     "data": {
      "application/vnd.jupyter.widget-view+json": {
       "model_id": "",
       "version_major": 2,
       "version_minor": 0
      },
      "text/plain": [
       "FloatProgress(value=0.0, bar_style='info', description='Progress:', layout=Layout(height='25px', width='50%'),…"
      ]
     },
     "metadata": {},
     "output_type": "display_data"
    }
   ],
   "source": [
    "phil_events = spark.read.parquet('s3://bdcc-lab/phil_events_final.parquet')"
   ]
  },
  {
   "cell_type": "markdown",
   "metadata": {},
   "source": [
    "## Filtering the features"
   ]
  },
  {
   "cell_type": "code",
   "execution_count": 6,
   "metadata": {},
   "outputs": [
    {
     "data": {
      "application/vnd.jupyter.widget-view+json": {
       "model_id": "7e61696bf1364934a30aeac2883dbb32",
       "version_major": 2,
       "version_minor": 0
      },
      "text/plain": [
       "VBox()"
      ]
     },
     "metadata": {},
     "output_type": "display_data"
    },
    {
     "data": {
      "application/vnd.jupyter.widget-view+json": {
       "model_id": "",
       "version_major": 2,
       "version_minor": 0
      },
      "text/plain": [
       "FloatProgress(value=0.0, bar_style='info', description='Progress:', layout=Layout(height='25px', width='50%'),…"
      ]
     },
     "metadata": {},
     "output_type": "display_data"
    }
   ],
   "source": [
    "phil_events = phil_events[[\n",
    "    'GlobalEventID',\n",
    "         'Day',\n",
    "         'Actor1Code',\n",
    "         'Actor1CountryCode',\n",
    "         'Actor1KnownGroupCode',\n",
    "         'Actor1EthnicCode',\n",
    "         'Actor1Religion1Code',\n",
    "         'Actor1Religion2Code',\n",
    "         'Actor1type1Code',\n",
    "         'Actor1type2Code',\n",
    "         'Actor1type3Code',\n",
    "         'Actor2Code',\n",
    "         'Actor2CountryCode',\n",
    "         'Actor2KnownGroupCode',\n",
    "         'Actor2EthnicCode',\n",
    "         'Actor2Religion1Code',\n",
    "         'Actor2Religion2Code',\n",
    "         'Actor2type1Code',\n",
    "         'Actor2type2Code',\n",
    "         'Actor2type3Code',\n",
    "         'IsRootEvent',\n",
    "          'EventCode', \n",
    "        'EventBaseCode',\n",
    "        'EventRootCode',\n",
    "         'QuadClass',\n",
    "         'NumMentions',\n",
    "         'NumSources',\n",
    "         'NumArticles',\n",
    "        'AvgTone'\n",
    "]]"
   ]
  },
  {
   "cell_type": "markdown",
   "metadata": {},
   "source": [
    "## Feature engineering"
   ]
  },
  {
   "cell_type": "code",
   "execution_count": 7,
   "metadata": {},
   "outputs": [
    {
     "data": {
      "application/vnd.jupyter.widget-view+json": {
       "model_id": "dc07981c18384b9693c7e6c356f32a39",
       "version_major": 2,
       "version_minor": 0
      },
      "text/plain": [
       "VBox()"
      ]
     },
     "metadata": {},
     "output_type": "display_data"
    },
    {
     "data": {
      "application/vnd.jupyter.widget-view+json": {
       "model_id": "",
       "version_major": 2,
       "version_minor": 0
      },
      "text/plain": [
       "FloatProgress(value=0.0, bar_style='info', description='Progress:', layout=Layout(height='25px', width='50%'),…"
      ]
     },
     "metadata": {},
     "output_type": "display_data"
    }
   ],
   "source": [
    "phil_events = phil_events.withColumn('mention_source', phil_events['NumMentions']/phil_events['NumSources'])\n",
    "phil_events = phil_events.withColumn('mention_article', phil_events['NumMentions']/phil_events['NumArticles'])"
   ]
  },
  {
   "cell_type": "code",
   "execution_count": 8,
   "metadata": {},
   "outputs": [
    {
     "data": {
      "application/vnd.jupyter.widget-view+json": {
       "model_id": "68ac3d8902dd4eca87a26f9dcc870403",
       "version_major": 2,
       "version_minor": 0
      },
      "text/plain": [
       "VBox()"
      ]
     },
     "metadata": {},
     "output_type": "display_data"
    },
    {
     "data": {
      "application/vnd.jupyter.widget-view+json": {
       "model_id": "",
       "version_major": 2,
       "version_minor": 0
      },
      "text/plain": [
       "FloatProgress(value=0.0, bar_style='info', description='Progress:', layout=Layout(height='25px', width='50%'),…"
      ]
     },
     "metadata": {},
     "output_type": "display_data"
    },
    {
     "name": "stdout",
     "output_type": "stream",
     "text": [
      "root\n",
      " |-- GlobalEventID: string (nullable = true)\n",
      " |-- Day: string (nullable = true)\n",
      " |-- Actor1Code: string (nullable = true)\n",
      " |-- Actor1CountryCode: string (nullable = true)\n",
      " |-- Actor1KnownGroupCode: string (nullable = true)\n",
      " |-- Actor1EthnicCode: string (nullable = true)\n",
      " |-- Actor1Religion1Code: string (nullable = true)\n",
      " |-- Actor1Religion2Code: string (nullable = true)\n",
      " |-- Actor1type1Code: string (nullable = true)\n",
      " |-- Actor1type2Code: string (nullable = true)\n",
      " |-- Actor1type3Code: string (nullable = true)\n",
      " |-- Actor2Code: string (nullable = true)\n",
      " |-- Actor2CountryCode: string (nullable = true)\n",
      " |-- Actor2KnownGroupCode: string (nullable = true)\n",
      " |-- Actor2EthnicCode: string (nullable = true)\n",
      " |-- Actor2Religion1Code: string (nullable = true)\n",
      " |-- Actor2Religion2Code: string (nullable = true)\n",
      " |-- Actor2type1Code: string (nullable = true)\n",
      " |-- Actor2type2Code: string (nullable = true)\n",
      " |-- Actor2type3Code: string (nullable = true)\n",
      " |-- IsRootEvent: string (nullable = true)\n",
      " |-- EventCode: string (nullable = true)\n",
      " |-- EventBaseCode: string (nullable = true)\n",
      " |-- EventRootCode: string (nullable = true)\n",
      " |-- QuadClass: string (nullable = true)\n",
      " |-- NumMentions: string (nullable = true)\n",
      " |-- NumSources: string (nullable = true)\n",
      " |-- NumArticles: string (nullable = true)\n",
      " |-- AvgTone: string (nullable = true)\n",
      " |-- mention_source: double (nullable = true)\n",
      " |-- mention_article: double (nullable = true)"
     ]
    }
   ],
   "source": [
    "phil_events.printSchema()"
   ]
  },
  {
   "cell_type": "code",
   "execution_count": 9,
   "metadata": {
    "scrolled": true
   },
   "outputs": [
    {
     "data": {
      "application/vnd.jupyter.widget-view+json": {
       "model_id": "99311b6b24f54c7fa05aafb291dd774e",
       "version_major": 2,
       "version_minor": 0
      },
      "text/plain": [
       "VBox()"
      ]
     },
     "metadata": {},
     "output_type": "display_data"
    },
    {
     "data": {
      "application/vnd.jupyter.widget-view+json": {
       "model_id": "",
       "version_major": 2,
       "version_minor": 0
      },
      "text/plain": [
       "FloatProgress(value=0.0, bar_style='info', description='Progress:', layout=Layout(height='25px', width='50%'),…"
      ]
     },
     "metadata": {},
     "output_type": "display_data"
    },
    {
     "name": "stdout",
     "output_type": "stream",
     "text": [
      "+-------------+--------+----------+-----------------+--------------------+----------------+-------------------+-------------------+---------------+---------------+---------------+----------+-----------------+--------------------+----------------+-------------------+-------------------+---------------+---------------+---------------+-----------+---------+-------------+-------------+---------+-----------+----------+-----------+-----------------+--------------+---------------+\n",
      "|GlobalEventID|     Day|Actor1Code|Actor1CountryCode|Actor1KnownGroupCode|Actor1EthnicCode|Actor1Religion1Code|Actor1Religion2Code|Actor1type1Code|Actor1type2Code|Actor1type3Code|Actor2Code|Actor2CountryCode|Actor2KnownGroupCode|Actor2EthnicCode|Actor2Religion1Code|Actor2Religion2Code|Actor2type1Code|Actor2type2Code|Actor2type3Code|IsRootEvent|EventCode|EventBaseCode|EventRootCode|QuadClass|NumMentions|NumSources|NumArticles|          AvgTone|mention_source|mention_article|\n",
      "+-------------+--------+----------+-----------------+--------------------+----------------+-------------------+-------------------+---------------+---------------+---------------+----------+-----------------+--------------------+----------------+-------------------+-------------------+---------------+---------------+---------------+-----------+---------+-------------+-------------+---------+-----------+----------+-----------+-----------------+--------------+---------------+\n",
      "|    820546778|20190201|      null|             null|                null|            null|               null|               null|           null|           null|           null|       GOV|             null|                null|            null|               null|               null|            GOV|           null|           null|          1|      020|          020|           02|        1|          2|         1|          2|-2.01005025125628|           2.0|            1.0|\n",
      "|    820546819|20190201|      null|             null|                null|            null|               null|               null|           null|           null|           null|       PHL|              PHL|                null|            null|               null|               null|           null|           null|           null|          1|      043|          043|           04|        1|          5|         1|          5|-1.75438596491228|           5.0|            1.0|\n",
      "|    820546820|20190201|      null|             null|                null|            null|               null|               null|           null|           null|           null|       PHL|              PHL|                null|            null|               null|               null|           null|           null|           null|          1|      043|          043|           04|        1|          2|         1|          2|-1.75438596491228|           2.0|            1.0|\n",
      "|    820546822|20190201|      null|             null|                null|            null|               null|               null|           null|           null|           null|       PHL|              PHL|                null|            null|               null|               null|           null|           null|           null|          0|      061|          061|           06|        2|          3|         1|          3|-1.75438596491228|           3.0|            1.0|\n",
      "|    820546823|20190201|      null|             null|                null|            null|               null|               null|           null|           null|           null|       PHL|              PHL|                null|            null|               null|               null|           null|           null|           null|          0|      061|          061|           06|        2|          1|         1|          1|-1.75438596491228|           1.0|            1.0|\n",
      "|    820546824|20190201|      null|             null|                null|            null|               null|               null|           null|           null|           null|    PHLGOV|              PHL|                null|            null|               null|               null|            GOV|           null|           null|          1|      020|          020|           02|        1|          6|         1|          6|-2.01005025125628|           6.0|            1.0|\n",
      "|    820546833|20190201|      null|             null|                null|            null|               null|               null|           null|           null|           null|       UAF|             null|                null|            null|               null|               null|            UAF|           null|           null|          0|     1123|          112|           11|        3|          3|         1|          3|-5.96107055961071|           3.0|            1.0|\n",
      "|    820547111|20190201|    CHRCTH|             null|                null|            null|                CHR|                CTH|           null|           null|           null|       MOS|             null|                null|            null|                MOS|               null|           null|           null|           null|          0|      057|          057|           05|        1|          2|         1|          2|-5.96107055961071|           2.0|            1.0|\n",
      "|    820547112|20190201|    CHRCTH|             null|                null|            null|                CHR|                CTH|           null|           null|           null|       MOS|             null|                null|            null|                MOS|               null|           null|           null|           null|          0|      057|          057|           05|        1|          3|         1|          3|-5.96107055961071|           3.0|            1.0|\n",
      "|    820547198|20190201|       CUB|              CUB|                null|            null|               null|               null|           null|           null|           null|      null|             null|                null|            null|               null|               null|           null|           null|           null|          0|      111|          111|           11|        3|          1|         1|          1|-1.75438596491228|           1.0|            1.0|\n",
      "|    820547200|20190201|       CUB|              CUB|                null|            null|               null|               null|           null|           null|           null|       BUS|             null|                null|            null|               null|               null|            BUS|           null|           null|          0|      051|          051|           05|        1|          1|         1|          1|-1.75438596491228|           1.0|            1.0|\n",
      "|    820547201|20190201|       CUB|              CUB|                null|            null|               null|               null|           null|           null|           null|       BUS|             null|                null|            null|               null|               null|            BUS|           null|           null|          0|      051|          051|           05|        1|          1|         1|          1|-1.75438596491228|           1.0|            1.0|\n",
      "|    820547203|20190201|       CUB|              CUB|                null|            null|               null|               null|           null|           null|           null|       BUS|             null|                null|            null|               null|               null|            BUS|           null|           null|          0|      111|          111|           11|        3|          1|         1|          1|-1.75438596491228|           1.0|            1.0|\n",
      "|    820547204|20190201|       CUB|              CUB|                null|            null|               null|               null|           null|           null|           null|       BUS|             null|                null|            null|               null|               null|            BUS|           null|           null|          0|      111|          111|           11|        3|          1|         1|          1|-1.75438596491228|           1.0|            1.0|\n",
      "|    820547205|20190201|       CUB|              CUB|                null|            null|               null|               null|           null|           null|           null|       ELI|             null|                null|            null|               null|               null|            ELI|           null|           null|          0|      061|          061|           06|        2|          1|         1|          1|-1.75438596491228|           1.0|            1.0|\n",
      "|    820547206|20190201|       CUB|              CUB|                null|            null|               null|               null|           null|           null|           null|       PHL|              PHL|                null|            null|               null|               null|           null|           null|           null|          0|      061|          061|           06|        2|          5|         1|          5|-1.75438596491228|           5.0|            1.0|\n",
      "|    820547207|20190201|       CUB|              CUB|                null|            null|               null|               null|           null|           null|           null|       PHL|              PHL|                null|            null|               null|               null|           null|           null|           null|          0|      061|          061|           06|        2|          1|         1|          1|-1.75438596491228|           1.0|            1.0|\n",
      "|    820547298|20190201|       ELI|             null|                null|            null|               null|               null|            ELI|           null|           null|       CUB|              CUB|                null|            null|               null|               null|           null|           null|           null|          0|      061|          061|           06|        2|          1|         1|          1|-1.75438596491228|           1.0|            1.0|\n",
      "|    820547363|20190201|       GOV|             null|                null|            null|               null|               null|            GOV|           null|           null|      null|             null|                null|            null|               null|               null|           null|           null|           null|          1|      013|          013|           01|        1|          6|         1|          6| 0.33222591362126|           6.0|            1.0|\n",
      "|    820547385|20190201|       GOV|             null|                null|            null|               null|               null|            GOV|           null|           null|      null|             null|                null|            null|               null|               null|           null|           null|           null|          1|      130|          130|           13|        3|         10|         1|         10|-4.54545454545455|          10.0|            1.0|\n",
      "+-------------+--------+----------+-----------------+--------------------+----------------+-------------------+-------------------+---------------+---------------+---------------+----------+-----------------+--------------------+----------------+-------------------+-------------------+---------------+---------------+---------------+-----------+---------+-------------+-------------+---------+-----------+----------+-----------+-----------------+--------------+---------------+\n",
      "only showing top 20 rows"
     ]
    }
   ],
   "source": [
    "phil_events.show()"
   ]
  },
  {
   "cell_type": "markdown",
   "metadata": {},
   "source": [
    "## Merging files"
   ]
  },
  {
   "cell_type": "code",
   "execution_count": 10,
   "metadata": {},
   "outputs": [
    {
     "data": {
      "application/vnd.jupyter.widget-view+json": {
       "model_id": "f05a6b1dc4b84fce9550be996b94bd96",
       "version_major": 2,
       "version_minor": 0
      },
      "text/plain": [
       "VBox()"
      ]
     },
     "metadata": {},
     "output_type": "display_data"
    },
    {
     "data": {
      "application/vnd.jupyter.widget-view+json": {
       "model_id": "",
       "version_major": 2,
       "version_minor": 0
      },
      "text/plain": [
       "FloatProgress(value=0.0, bar_style='info', description='Progress:', layout=Layout(height='25px', width='50%'),…"
      ]
     },
     "metadata": {},
     "output_type": "display_data"
    }
   ],
   "source": [
    "#mentions_count = 9250645\n",
    "#phile_events_count = 195826\n",
    "#innerjoin = 44069"
   ]
  },
  {
   "cell_type": "code",
   "execution_count": 9,
   "metadata": {},
   "outputs": [
    {
     "data": {
      "application/vnd.jupyter.widget-view+json": {
       "model_id": "1cecaf346d3541a7926fef863fa7da02",
       "version_major": 2,
       "version_minor": 0
      },
      "text/plain": [
       "VBox()"
      ]
     },
     "metadata": {},
     "output_type": "display_data"
    },
    {
     "data": {
      "application/vnd.jupyter.widget-view+json": {
       "model_id": "",
       "version_major": 2,
       "version_minor": 0
      },
      "text/plain": [
       "FloatProgress(value=0.0, bar_style='info', description='Progress:', layout=Layout(height='25px', width='50%'),…"
      ]
     },
     "metadata": {},
     "output_type": "display_data"
    }
   ],
   "source": [
    "sample_joined = df_mention.join(phil_events, \"GlobalEventID\")"
   ]
  },
  {
   "cell_type": "code",
   "execution_count": 10,
   "metadata": {},
   "outputs": [
    {
     "data": {
      "application/vnd.jupyter.widget-view+json": {
       "model_id": "648333ee7db74f69bfd4ab8a470a566e",
       "version_major": 2,
       "version_minor": 0
      },
      "text/plain": [
       "VBox()"
      ]
     },
     "metadata": {},
     "output_type": "display_data"
    },
    {
     "data": {
      "application/vnd.jupyter.widget-view+json": {
       "model_id": "",
       "version_major": 2,
       "version_minor": 0
      },
      "text/plain": [
       "FloatProgress(value=0.0, bar_style='info', description='Progress:', layout=Layout(height='25px', width='50%'),…"
      ]
     },
     "metadata": {},
     "output_type": "display_data"
    },
    {
     "name": "stdout",
     "output_type": "stream",
     "text": [
      "44069"
     ]
    }
   ],
   "source": [
    "sample_joined.count()"
   ]
  },
  {
   "cell_type": "code",
   "execution_count": 11,
   "metadata": {},
   "outputs": [
    {
     "data": {
      "application/vnd.jupyter.widget-view+json": {
       "model_id": "2069d181a7be452babf207672a5f5da6",
       "version_major": 2,
       "version_minor": 0
      },
      "text/plain": [
       "VBox()"
      ]
     },
     "metadata": {},
     "output_type": "display_data"
    },
    {
     "data": {
      "application/vnd.jupyter.widget-view+json": {
       "model_id": "",
       "version_major": 2,
       "version_minor": 0
      },
      "text/plain": [
       "FloatProgress(value=0.0, bar_style='info', description='Progress:', layout=Layout(height='25px', width='50%'),…"
      ]
     },
     "metadata": {},
     "output_type": "display_data"
    },
    {
     "name": "stdout",
     "output_type": "stream",
     "text": [
      "root\n",
      " |-- GlobalEventID: string (nullable = true)\n",
      " |-- MentionTimeDate: string (nullable = true)\n",
      " |-- MentionType: string (nullable = true)\n",
      " |-- SentenceID: string (nullable = true)\n",
      " |-- Actor1CharOffset: string (nullable = true)\n",
      " |-- Actor2CharOffset: string (nullable = true)\n",
      " |-- ActionCharOffset: string (nullable = true)\n",
      " |-- MentionDocLen: string (nullable = true)\n",
      " |-- MentionDocTone: string (nullable = true)\n",
      " |-- Day: string (nullable = true)\n",
      " |-- Actor1Code: string (nullable = true)\n",
      " |-- Actor1CountryCode: string (nullable = true)\n",
      " |-- Actor1KnownGroupCode: string (nullable = true)\n",
      " |-- Actor1EthnicCode: string (nullable = true)\n",
      " |-- Actor1Religion1Code: string (nullable = true)\n",
      " |-- Actor1Religion2Code: string (nullable = true)\n",
      " |-- Actor1type1Code: string (nullable = true)\n",
      " |-- Actor1type2Code: string (nullable = true)\n",
      " |-- Actor1type3Code: string (nullable = true)\n",
      " |-- Actor2Code: string (nullable = true)\n",
      " |-- Actor2CountryCode: string (nullable = true)\n",
      " |-- Actor2KnownGroupCode: string (nullable = true)\n",
      " |-- Actor2EthnicCode: string (nullable = true)\n",
      " |-- Actor2Religion1Code: string (nullable = true)\n",
      " |-- Actor2Religion2Code: string (nullable = true)\n",
      " |-- Actor2type1Code: string (nullable = true)\n",
      " |-- Actor2type2Code: string (nullable = true)\n",
      " |-- Actor2type3Code: string (nullable = true)\n",
      " |-- IsRootEvent: string (nullable = true)\n",
      " |-- EventCode: string (nullable = true)\n",
      " |-- EventBaseCode: string (nullable = true)\n",
      " |-- EventRootCode: string (nullable = true)\n",
      " |-- QuadClass: string (nullable = true)\n",
      " |-- NumMentions: string (nullable = true)\n",
      " |-- NumSources: string (nullable = true)\n",
      " |-- NumArticles: string (nullable = true)\n",
      " |-- AvgTone: string (nullable = true)\n",
      " |-- mention_source: double (nullable = true)\n",
      " |-- mention_article: double (nullable = true)"
     ]
    }
   ],
   "source": [
    "sample_joined.printSchema()"
   ]
  },
  {
   "cell_type": "code",
   "execution_count": 12,
   "metadata": {},
   "outputs": [
    {
     "data": {
      "application/vnd.jupyter.widget-view+json": {
       "model_id": "1cd3882502d4446cbe93686ee3cd4385",
       "version_major": 2,
       "version_minor": 0
      },
      "text/plain": [
       "VBox()"
      ]
     },
     "metadata": {},
     "output_type": "display_data"
    },
    {
     "data": {
      "application/vnd.jupyter.widget-view+json": {
       "model_id": "",
       "version_major": 2,
       "version_minor": 0
      },
      "text/plain": [
       "FloatProgress(value=0.0, bar_style='info', description='Progress:', layout=Layout(height='25px', width='50%'),…"
      ]
     },
     "metadata": {},
     "output_type": "display_data"
    }
   ],
   "source": [
    "sample_joined.write.parquet('s3://bdcc-lab/joined_table.parquet')"
   ]
  },
  {
   "cell_type": "code",
   "execution_count": 17,
   "metadata": {},
   "outputs": [
    {
     "data": {
      "application/vnd.jupyter.widget-view+json": {
       "model_id": "ffb959ac7e214dd88f9bb324f9370e4a",
       "version_major": 2,
       "version_minor": 0
      },
      "text/plain": [
       "VBox()"
      ]
     },
     "metadata": {},
     "output_type": "display_data"
    },
    {
     "data": {
      "application/vnd.jupyter.widget-view+json": {
       "model_id": "",
       "version_major": 2,
       "version_minor": 0
      },
      "text/plain": [
       "FloatProgress(value=0.0, bar_style='info', description='Progress:', layout=Layout(height='25px', width='50%'),…"
      ]
     },
     "metadata": {},
     "output_type": "display_data"
    }
   ],
   "source": [
    "df_merged = sample_joined.toPandas()"
   ]
  },
  {
   "cell_type": "code",
   "execution_count": 19,
   "metadata": {},
   "outputs": [
    {
     "data": {
      "application/vnd.jupyter.widget-view+json": {
       "model_id": "3a56d64d1d3b44d79f71c5945e6a8b93",
       "version_major": 2,
       "version_minor": 0
      },
      "text/plain": [
       "VBox()"
      ]
     },
     "metadata": {},
     "output_type": "display_data"
    },
    {
     "data": {
      "application/vnd.jupyter.widget-view+json": {
       "model_id": "",
       "version_major": 2,
       "version_minor": 0
      },
      "text/plain": [
       "FloatProgress(value=0.0, bar_style='info', description='Progress:', layout=Layout(height='25px', width='50%'),…"
      ]
     },
     "metadata": {},
     "output_type": "display_data"
    },
    {
     "name": "stdout",
     "output_type": "stream",
     "text": [
      "GlobalEventID               0\n",
      "MentionTimeDate             0\n",
      "MentionType                 0\n",
      "SentenceID                  0\n",
      "Actor1CharOffset            0\n",
      "Actor2CharOffset            0\n",
      "ActionCharOffset            0\n",
      "MentionDocLen               0\n",
      "MentionDocTone              0\n",
      "Day                         0\n",
      "Actor1Code               5244\n",
      "Actor1CountryCode       27066\n",
      "Actor1KnownGroupCode    43549\n",
      "Actor1EthnicCode        43911\n",
      "Actor1Religion1Code     42504\n",
      "Actor1Religion2Code     43752\n",
      "Actor1type1Code         20629\n",
      "Actor1type2Code         42659\n",
      "Actor1type3Code         44035\n",
      "Actor2Code              16620\n",
      "Actor2CountryCode       32768\n",
      "Actor2KnownGroupCode    43524\n",
      "Actor2EthnicCode        43955\n",
      "Actor2Religion1Code     41575\n",
      "Actor2Religion2Code     42561\n",
      "Actor2type1Code         28437\n",
      "Actor2type2Code         43012\n",
      "Actor2type3Code         44058\n",
      "IsRootEvent                 0\n",
      "EventCode                   0\n",
      "EventBaseCode               0\n",
      "EventRootCode               0\n",
      "QuadClass                   0\n",
      "NumMentions                 0\n",
      "NumSources                  0\n",
      "NumArticles                 0\n",
      "AvgTone                     0\n",
      "mention_source              0\n",
      "mention_article             0\n",
      "dtype: int64"
     ]
    }
   ],
   "source": [
    "df_merged.isnull().sum()"
   ]
  },
  {
   "cell_type": "code",
   "execution_count": 26,
   "metadata": {},
   "outputs": [
    {
     "data": {
      "application/vnd.jupyter.widget-view+json": {
       "model_id": "3226bfea23024df399b310bf586df613",
       "version_major": 2,
       "version_minor": 0
      },
      "text/plain": [
       "VBox()"
      ]
     },
     "metadata": {},
     "output_type": "display_data"
    },
    {
     "data": {
      "application/vnd.jupyter.widget-view+json": {
       "model_id": "",
       "version_major": 2,
       "version_minor": 0
      },
      "text/plain": [
       "FloatProgress(value=0.0, bar_style='info', description='Progress:', layout=Layout(height='25px', width='50%'),…"
      ]
     },
     "metadata": {},
     "output_type": "display_data"
    }
   ],
   "source": [
    "df_merged.to_parquet('s3://bdcc-lab/df_merged.parquet')"
   ]
  },
  {
   "cell_type": "code",
   "execution_count": 29,
   "metadata": {},
   "outputs": [
    {
     "data": {
      "application/vnd.jupyter.widget-view+json": {
       "model_id": "a624ddd02b1f4d04b74bc598e5d09536",
       "version_major": 2,
       "version_minor": 0
      },
      "text/plain": [
       "VBox()"
      ]
     },
     "metadata": {},
     "output_type": "display_data"
    },
    {
     "data": {
      "application/vnd.jupyter.widget-view+json": {
       "model_id": "",
       "version_major": 2,
       "version_minor": 0
      },
      "text/plain": [
       "FloatProgress(value=0.0, bar_style='info', description='Progress:', layout=Layout(height='25px', width='50%'),…"
      ]
     },
     "metadata": {},
     "output_type": "display_data"
    },
    {
     "name": "stdout",
     "output_type": "stream",
     "text": [
      "  GlobalEventID MentionTimeDate  ... mention_source mention_article\n",
      "0     813443217  20190101081500  ...           10.0             1.0\n",
      "1     813443217  20190101080000  ...           10.0             1.0\n",
      "2     813443217  20190101040000  ...           10.0             1.0\n",
      "3     813449194  20190101053000  ...           10.0             1.0\n",
      "4     813494031  20190101150000  ...           10.0             1.0\n",
      "\n",
      "[5 rows x 39 columns]"
     ]
    }
   ],
   "source": [
    "df_merged.to_pickle('df_merged.pkl')"
   ]
  },
  {
   "cell_type": "markdown",
   "metadata": {},
   "source": [
    "## Reading merged parquet file"
   ]
  },
  {
   "cell_type": "code",
   "execution_count": 7,
   "metadata": {},
   "outputs": [
    {
     "data": {
      "application/vnd.jupyter.widget-view+json": {
       "model_id": "8995604636bd433b9d1e65c6f3c0d087",
       "version_major": 2,
       "version_minor": 0
      },
      "text/plain": [
       "VBox()"
      ]
     },
     "metadata": {},
     "output_type": "display_data"
    },
    {
     "data": {
      "application/vnd.jupyter.widget-view+json": {
       "model_id": "",
       "version_major": 2,
       "version_minor": 0
      },
      "text/plain": [
       "FloatProgress(value=0.0, bar_style='info', description='Progress:', layout=Layout(height='25px', width='50%'),…"
      ]
     },
     "metadata": {},
     "output_type": "display_data"
    }
   ],
   "source": [
    "df_merged = spark.read.parquet('s3://bdcc-lab/df_merged.parquet')"
   ]
  },
  {
   "cell_type": "code",
   "execution_count": 8,
   "metadata": {},
   "outputs": [
    {
     "data": {
      "application/vnd.jupyter.widget-view+json": {
       "model_id": "1aebb27821b34db085476fecf1bb5fe9",
       "version_major": 2,
       "version_minor": 0
      },
      "text/plain": [
       "VBox()"
      ]
     },
     "metadata": {},
     "output_type": "display_data"
    },
    {
     "data": {
      "application/vnd.jupyter.widget-view+json": {
       "model_id": "",
       "version_major": 2,
       "version_minor": 0
      },
      "text/plain": [
       "FloatProgress(value=0.0, bar_style='info', description='Progress:', layout=Layout(height='25px', width='50%'),…"
      ]
     },
     "metadata": {},
     "output_type": "display_data"
    },
    {
     "name": "stdout",
     "output_type": "stream",
     "text": [
      "root\n",
      " |-- GlobalEventID: string (nullable = true)\n",
      " |-- MentionTimeDate: string (nullable = true)\n",
      " |-- MentionType: string (nullable = true)\n",
      " |-- SentenceID: string (nullable = true)\n",
      " |-- Actor1CharOffset: string (nullable = true)\n",
      " |-- Actor2CharOffset: string (nullable = true)\n",
      " |-- ActionCharOffset: string (nullable = true)\n",
      " |-- MentionDocLen: string (nullable = true)\n",
      " |-- MentionDocTone: string (nullable = true)\n",
      " |-- Day: string (nullable = true)\n",
      " |-- Actor1Code: string (nullable = true)\n",
      " |-- Actor1CountryCode: string (nullable = true)\n",
      " |-- Actor1KnownGroupCode: string (nullable = true)\n",
      " |-- Actor1EthnicCode: string (nullable = true)\n",
      " |-- Actor1Religion1Code: string (nullable = true)\n",
      " |-- Actor1Religion2Code: string (nullable = true)\n",
      " |-- Actor1type1Code: string (nullable = true)\n",
      " |-- Actor1type2Code: string (nullable = true)\n",
      " |-- Actor1type3Code: string (nullable = true)\n",
      " |-- Actor2Code: string (nullable = true)\n",
      " |-- Actor2CountryCode: string (nullable = true)\n",
      " |-- Actor2KnownGroupCode: string (nullable = true)\n",
      " |-- Actor2EthnicCode: string (nullable = true)\n",
      " |-- Actor2Religion1Code: string (nullable = true)\n",
      " |-- Actor2Religion2Code: string (nullable = true)\n",
      " |-- Actor2type1Code: string (nullable = true)\n",
      " |-- Actor2type2Code: string (nullable = true)\n",
      " |-- Actor2type3Code: string (nullable = true)\n",
      " |-- IsRootEvent: string (nullable = true)\n",
      " |-- EventCode: string (nullable = true)\n",
      " |-- EventBaseCode: string (nullable = true)\n",
      " |-- EventRootCode: string (nullable = true)\n",
      " |-- QuadClass: string (nullable = true)\n",
      " |-- NumMentions: string (nullable = true)\n",
      " |-- NumSources: string (nullable = true)\n",
      " |-- NumArticles: string (nullable = true)\n",
      " |-- AvgTone: string (nullable = true)\n",
      " |-- mention_source: double (nullable = true)\n",
      " |-- mention_article: double (nullable = true)"
     ]
    }
   ],
   "source": [
    "df_merged.printSchema()"
   ]
  },
  {
   "cell_type": "code",
   "execution_count": 11,
   "metadata": {},
   "outputs": [
    {
     "data": {
      "application/vnd.jupyter.widget-view+json": {
       "model_id": "87dd01eb01884d409c1421d2d993bea8",
       "version_major": 2,
       "version_minor": 0
      },
      "text/plain": [
       "VBox()"
      ]
     },
     "metadata": {},
     "output_type": "display_data"
    },
    {
     "data": {
      "application/vnd.jupyter.widget-view+json": {
       "model_id": "",
       "version_major": 2,
       "version_minor": 0
      },
      "text/plain": [
       "FloatProgress(value=0.0, bar_style='info', description='Progress:', layout=Layout(height='25px', width='50%'),…"
      ]
     },
     "metadata": {},
     "output_type": "display_data"
    }
   ],
   "source": [
    "df_merged = df_merged.toPandas()"
   ]
  },
  {
   "cell_type": "code",
   "execution_count": 14,
   "metadata": {},
   "outputs": [
    {
     "data": {
      "application/vnd.jupyter.widget-view+json": {
       "model_id": "64a3c0032b58495c8b682084e4306c21",
       "version_major": 2,
       "version_minor": 0
      },
      "text/plain": [
       "VBox()"
      ]
     },
     "metadata": {},
     "output_type": "display_data"
    },
    {
     "data": {
      "application/vnd.jupyter.widget-view+json": {
       "model_id": "",
       "version_major": 2,
       "version_minor": 0
      },
      "text/plain": [
       "FloatProgress(value=0.0, bar_style='info', description='Progress:', layout=Layout(height='25px', width='50%'),…"
      ]
     },
     "metadata": {},
     "output_type": "display_data"
    }
   ],
   "source": [
    "df_merged.to_csv('s3://bdcc-lab/bdcc_lab3_data.csv')"
   ]
  }
 ],
 "metadata": {
  "kernelspec": {
   "display_name": "PySpark",
   "language": "",
   "name": "pysparkkernel"
  },
  "language_info": {
   "codemirror_mode": {
    "name": "python",
    "version": 2
   },
   "mimetype": "text/x-python",
   "name": "pyspark",
   "pygments_lexer": "python2"
  },
  "toc": {
   "base_numbering": 1,
   "nav_menu": {},
   "number_sections": false,
   "sideBar": true,
   "skip_h1_title": false,
   "title_cell": "Table of Contents",
   "title_sidebar": "Contents",
   "toc_cell": false,
   "toc_position": {},
   "toc_section_display": true,
   "toc_window_display": true
  }
 },
 "nbformat": 4,
 "nbformat_minor": 4
}
